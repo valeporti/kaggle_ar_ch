{
 "cells": [
  {
   "cell_type": "markdown",
   "metadata": {},
   "source": [
    "**<div style=\"text-align:right;\">Jhonatan Leonardo TORRES SANCHEZ</div>**\n",
    "**<div style=\"text-align:right;\">Houssem NJAH</div>**\n",
    "**<div style=\"text-align:right;\">Valentin PORTILLO GALVAN</div>**"
   ]
  },
  {
   "cell_type": "markdown",
   "metadata": {},
   "source": [
    "# Abstraction and Reasoning Challenge\n",
    "\n",
    "As a small introduction, the [\"Abstraction and Reasoning\" kaggle challenge](https://www.kaggle.com/c/abstraction-and-reasoning-challenge) aims to be able to grasp and somehow represent more intelligent artficial intelligence since the actual approaches, are highly data dependent and the approaches given seems not to extract real intelligence. Here we're speaking of deep learning. So how to manage to start giving a better approach to real intelligence to algorithms. Intelligence should be defined, and it has several definitions from experts in the field. In order to match the a computer science based approach with intelligence a basic approach is proposed: a baby world's discovery. As all know, we start not knowing Newtons' laws or how to prepare coffee, but we learn, we learn by trial error as science may argue. In order to start somewhere to do this a computer science approach, a hierarchization of knowledge (figure #1) and a learning process flow (figure #2) are propposed by [François Chollet](https://fchollet.com/) in his article \"[On the Measure of Intelligence](https://arxiv.org/abs/1911.01547)\".\n",
    "\n",
    "<img style=\"max-width: 600px\" alt=\"hierarchy_of_intelligence\" src=\"https://external-content.duckduckgo.com/iu/?u=https%3A%2F%2Fzdnet3.cbsistatic.com%2Fhub%2Fi%2Fr%2F2019%2F11%2F26%2F3e5da851-731e-4983-b1ca-13d0021104c5%2Fresize%2F1200xauto%2F5aa66686c664adb37be4ac81b6ddee78%2Fchollet-hierarchy-of-intelligence.png&f=1&nofb=1\">\n",
    "\n",
    "<img style=\"max-width: 600px\" alt=\"kinda_reinforcment_learning\" src=\"https://external-content.duckduckgo.com/iu/?u=https%3A%2F%2Fzdnet1.cbsistatic.com%2Fhub%2Fi%2Fr%2F2019%2F11%2F26%2Ff9e1b3fe-85fc-4000-9e91-035d2ab19f63%2Fresize%2F1200xauto%2Fca715feda35acbaafc95c59eb017a3c1%2Fchollet-model-of-an-intelligent-system.png&f=1&nofb=1\">\n",
    "\n",
    "As you may notice from the proposals, the hierarchy is mainly a \"divide and conquer\" approach which is a very good approach of how the brain works since it's theoritized that the brain actually when learning, it tries to \"connect the dots\" by connecting already acquired knowledge to this new knowledge [[1]](https://barbaraoakley.com/books/a-mind-for-numbers/). \n",
    "\n",
    "For the learning process, it's abtracting a baby learning process which seems very accurate because in order to do a task, approaches are made and they could be good or bad, the bayby will know, as the algorithm will with the feedback or reward. In order to propose a first approach to any task, the baby has world priors that would let him start with something and creating each time more complex knowledge that will enable him with more and more accurate appraoches or the ability to do more complicated tasks. For the algorithm, this is done by the proposal of priors that will enable it to start with something and create new knowledge. A parallelism comes to mind: knowledge bases creation, but automated.\n",
    "\n",
    "Not developing more, this process of learning and hierarchic task developement is the exercice that proposes the challenge. So, the facts that we extract from the reading and understanding the article are that whatever we propose has to have:\n",
    "\n",
    "+ Priors proposal\n",
    "+ Knowledge increment\n",
    "+ Independence of data\n",
    "\n",
    "## The abstracted approach\n",
    "\n",
    "For the data we have n tasks that have to be understood by m examples that goes from a starting figure to a goal figure. By understanding the task on each ensemble of m examples, the test, that corresponds to the same task logic, should be accomplished. It's like when you have 2 exemples and you are asked to understand the pattern that happens when passing from input 1 to output 1, then from input 2 to output 2 and then they just give you a third input and you have to complete the third output. \n",
    "\n",
    "## First thoughts\n",
    "\n",
    "> As a rule, our proposals are based on \"atomic functions\" as the minimal expression of a task => *atomic functions (functions that do simple tranformation/calculation/characteristic_extraction/featurization)*\n",
    "\n",
    "+ Sequential atomic functions application plus objective function (maybe the most naive approaches?)\n",
    "  + A list of atomic functions, ordered somehow and with an application\n",
    "    + This approach is the most naive, it's based on proposing atomic functions, then deciding the number of times that each of the atomic function should be applied plus the order in loops, hopefully finding that the order and applications found would be enough to apply in the rest of examples and so, understand the task\n",
    "    + Even if naive, it could work as an understanding of possible atomic functions\n",
    "    + <span style=\"color:tomato\">Spoiler alert</span> Couldn't end it for at least one example because on the difficulty of applying the functions. It became obvious that a recursive approach was necessary in order to apply the functions, they could be applyied as it is, so functions that would work as nodes in the recursive tree (for exemple: NLP) had to be built, so the definition of the groupings was necessary. We did't go further since it required a lot of work, work that would not be worth it since it was not scalable and too applyied to this challenge, and the main goal should be to propose a generalizable approach.\n",
    "  + Genetic algorithm (GA) on an objective funtion that evaluates n aspects formed by m atomic functions\n",
    "    + We need to the define the atomic functions, the grouping (the aspects) that will be reflected in the objective function\n",
    "    + So, the GA would find the order of the application of the atomic functions to maximize the objective function\n",
    "    + <span style=\"color:tomato\">Spoiler alert</span> Couldn't end it for at least one example. We started by defining the parts that the objective function would evaluate but the definition of the atomic functions remain a huge work since it's a difficult task to relate the atomic functions to one or several groups and the way of application remains unclear. Again, a recursive approach of functions applications may be necessary.\n",
    "    + find [here](https://www.kaggle.com/zenol42/dsl-and-genetic-algorithm-applied-to-arc) a <span style=\"color:green\">succesful</span> example of a GA. But, the idea behind is different to ours. The \"atomic functions\" are not there. The **Domain Specific Language (DSL)** resides on transormations of the images.\n",
    "  + **These ideas could be seen as approaches to a way of making a [cellular automaton](https://en.wikipedia.org/wiki/Cellular_automaton): dynamic approaches for cellular automaton rules extraction**\n",
    "    + We mention this because there is a proposal to treat tasks as a [cellular automaton on this competition](https://www.kaggle.com/arsenynerinovsky/cellular-automata-as-a-language-for-reasoning) which reinforced our idea on making atomic functions since actually, in an automaton, **a task could be completed by a limited set of functions**, each function can then be reduced to our famous \"atomic functions\".\n",
    "+ Recursive function application to build a linear atomic functions pipe\n",
    "  + Develop a language-interpreter-like program with defined functions, with defined rules, that would be able to recognize the environment and apply one of the applicatons found. \n",
    "+ *This was the decisive approach that made us think that we must have been complicating things, another way to go should be possible, a \"less strict\" and \"detailed\" approach shuuld be taken. Also, hard to accept that we haven't been able to accomplish to apply any of this \"theories\" to one task accomplishement.*\n",
    "\n",
    "> Second thoughts on Deep Learning\n",
    "\n",
    "+ As a confession, our first idea was to approach the problem somehow as an Autoencoder (AE), or as a Generative Adversarial Network (GAN), as we would somehow be trying to learn the tasks and maybe the atomic functions. We didn't started with this approach under the arguments that for deep learning algorithms, there's a strong dependency on data and we have less than 10 examples to train for each task to learn. Furthermore, in the [article](https://arxiv.org/abs/1911.01547), they mention that traditionnal deep learning approaches are impossible to use due to this fact. \n",
    "+ We decided to give it a try.\n",
    "+ (First approach: simple in out)\n",
    "1. input image output image -> inside learning of tasks, and atomic functions\n",
    "2. input image with features (including comparisons with output) output image -> inside learning of tasks and atomic functions but given a prior\n",
    "3. input image with features (no comparisons), output image with features (no comparisons) -> inside learning of tasks and atomic functions but given a prior\n",
    "4. input image output image, inside affectation of priors?"
   ]
  },
  {
   "cell_type": "code",
   "execution_count": 1,
   "metadata": {},
   "outputs": [],
   "source": [
    "import numpy as np\n",
    "import os\n",
    "import matplotlib.pyplot as plt\n",
    "from pprint import pprint as pp\n",
    "import seaborn as sns\n",
    "\n",
    "import importlib #importlib.reload(foo)\n",
    "import helpers as hp\n",
    "import display as dp\n",
    "import scripts as sc\n",
    "import atomic as ac\n",
    "import networkx as nx\n",
    "from itertools import product\n",
    "\n",
    "in_kaggle = False # IN KAGGLE"
   ]
  },
  {
   "cell_type": "markdown",
   "metadata": {},
   "source": [
    "### Data in a glance\n",
    "\n",
    "+ we have 10 integer values in data and as per the example given in the kaggle competition introduction, they will be used as colors\n",
    "+ for the data we have the next folders\n",
    "  + training -> Train and acquire ARC-relevant cognitive priors\n",
    "  + evaluation -> Evaluate algorithm\n",
    "  + test -> extraction from evaluation but without answer, mainly to score the model\n",
    "+ training has a train set of input + output exemples in order to learn the task and then a test set of input and output that will let us compare and understand if the task was learned\n",
    "\n",
    "### General variables"
   ]
  },
  {
   "cell_type": "code",
   "execution_count": 2,
   "metadata": {},
   "outputs": [
    {
     "data": {
      "image/png": "[encoded data removed]",
      "text/plain": [
       "<Figure size 500x200 with 1 Axes>"
      ]
     },
     "metadata": {
      "needs_background": "light"
     },
     "output_type": "display_data"
    }
   ],
   "source": [
    "data_dir = './data/' if not in_kaggle else '/kaggle/input'\n",
    "training_path, evaluation_path, test_path = f'{data_dir}training', f'{data_dir}evaluation', f'{data_dir}test'\n",
    "training_tasks, evaluation_tasks, test_tasks = sorted(os.listdir(training_path)), sorted(os.listdir(evaluation_path)), sorted(os.listdir(test_path))\n",
    "dp.showTotalColors()\n",
    "black, blue, red, green, yellow, gray, magenta, orange, sky, brown = range(10)\n",
    "colors = { cname: c for c, cname in enumerate(['black', 'blue', 'red', 'green', 'yellow', 'gray', 'magenta', 'orange', 'sky', 'brown']) }"
   ]
  },
  {
   "cell_type": "markdown",
   "metadata": {},
   "source": [
    "### Display some task to better understand the intention "
   ]
  },
  {
   "cell_type": "code",
   "execution_count": 3,
   "metadata": {},
   "outputs": [
    {
     "data": {
      "text/plain": [
       "<Figure size 432x288 with 0 Axes>"
      ]
     },
     "metadata": {},
     "output_type": "display_data"
    },
    {
     "data": {
      "image/png": "[encoded data removed]",
      "text/plain": [
       "<Figure size 1200x400 with 12 Axes>"
      ]
     },
     "metadata": {
      "needs_background": "light"
     },
     "output_type": "display_data"
    },
    {
     "data": {
      "text/plain": [
       "<Figure size 432x288 with 0 Axes>"
      ]
     },
     "metadata": {},
     "output_type": "display_data"
    },
    {
     "data": {
      "image/png": "[encoded data removed]",
      "text/plain": [
       "<Figure size 1200x400 with 12 Axes>"
      ]
     },
     "metadata": {
      "needs_background": "light"
     },
     "output_type": "display_data"
    },
    {
     "data": {
      "text/plain": [
       "<Figure size 432x288 with 0 Axes>"
      ]
     },
     "metadata": {},
     "output_type": "display_data"
    },
    {
     "data": {
      "image/png": "[encoded data removed]",
      "text/plain": [
       "<Figure size 800x400 with 8 Axes>"
      ]
     },
     "metadata": {
      "needs_background": "light"
     },
     "output_type": "display_data"
    }
   ],
   "source": [
    "sc.showNTrainingSamples(3, training_tasks, training_path, show=False)\n",
    "#sc.showNTrainingSamples(2, test_tasks, test_path, test_task=True)\n",
    "#sc.showNTrainingSamples(2, evaluation_tasks, evaluation_path)"
   ]
  },
  {
   "cell_type": "markdown",
   "metadata": {},
   "source": [
    "### General comments from studied tasks\n",
    "\n",
    "+ We have tasks that change of size from input to output, not necessarily on a specific scale, meaning that width and height may change differently\n",
    "+ Some of the tasks to accomplish are \"filling the black boxes when surrounded by a color\", \"copy left pattern to right pattern\"... etcetera.\n",
    "+ From examples above (first 5) we can see that the task to accomplish are not the same\n",
    "  1. From pattern on input, copy same pattern on output arranged according to pattern on input on a 3x scaled image from a 3x3 input using same color\n",
    "  2. Fill with yellow the black boxes that are surrounded by the green boxes\n",
    "  3. From blue to red, take the pattern and copy it as to perform continuity of the pattern\n",
    "  4. *Unclear for us, hope the algorithm will get it ^^*\n",
    "  5. From central pattern, copy same pattern repeatedly until the limits in the direction from the center to the \"other color starting points\" using the color proposed from the starting points\n",
    "  \n",
    "> This may seem as an impossible task from just the descriptions but what if the tasks described here could be performed by a limited set of smaller actions that would describe the bigger task by mixing themselves in a certain order and from 0 to n repetitions\n",
    "\n",
    "### Work with one example (we'll choose the second one)"
   ]
  },
  {
   "cell_type": "code",
   "execution_count": 4,
   "metadata": {},
   "outputs": [
    {
     "data": {
      "text/plain": [
       "<Figure size 432x288 with 0 Axes>"
      ]
     },
     "metadata": {},
     "output_type": "display_data"
    },
    {
     "data": {
      "image/png": "[encoded data removed]",
      "text/plain": [
       "<Figure size 1200x400 with 12 Axes>"
      ]
     },
     "metadata": {
      "needs_background": "light"
     },
     "output_type": "display_data"
    }
   ],
   "source": [
    "info = hp.getGeneralInfoFromTask(training_path+'/00d62c1b.json')\n",
    "dp.plot_task(info, 1, '00d62c1b')"
   ]
  },
  {
   "cell_type": "markdown",
   "metadata": {},
   "source": [
    "> <span style=\"color:tomato\">How to propose the atomic functions, which caracteristics, hoy many, how to apply them?</span>"
   ]
  },
  {
   "cell_type": "markdown",
   "metadata": {},
   "source": [
    "## Develop Ideas for atomic functions\n",
    "\n",
    "> We will consider \"atomic functions\" as lambda functions, as per a [lambda calculus](https://en.wikipedia.org/wiki/Lambda_calculus) approach."
   ]
  },
  {
   "cell_type": "code",
   "execution_count": 5,
   "metadata": {},
   "outputs": [],
   "source": [
    "n_colors = 10\n",
    "shape_col_index, shape_row_index = 1, 0\n",
    "black, blue, red, green, yellow, gray, magenta, orange, sky, brown = range(n_colors)\n",
    "\n",
    "def moveMToLeft(m):\n",
    "  permutation = [ *range(1, m.shape[shape_col_index]), 0]\n",
    "  return m[:, permutation]\n",
    "\n",
    "def moveMToRight(m):\n",
    "  permutation = [ m.shape[shape_col_index] - 1 , *range(0, m.shape[shape_col_index] - 1)]\n",
    "  return m[:, permutation]\n",
    "\n",
    "def getMCellInfo(m, c):\n",
    "  \"\"\"\n",
    "  get basic info: coords, shape and copy matrix to simmulate immutablity (not to affect the root matrix, but create copy)\n",
    "  \"\"\"\n",
    "  x_index, y_index = c\n",
    "  n_rows, n_cols = m.shape\n",
    "  return x_index, y_index, n_rows, n_cols, np.copy(m)\n",
    "\n",
    "leftPermutation = lambda m: [ *range(1, m.shape[shape_col_index]), 0]\n",
    "rightPermutation = lambda m: [ m.shape[shape_col_index] - 1 , *range(0, m.shape[shape_col_index] - 1)]\n",
    "upwardsPermutation = lambda m: [ *range(1, m.shape[shape_row_index]), 0]\n",
    "downwardsPermutation = lambda m: [ m.shape[shape_row_index] - 1 , *range(0, m.shape[shape_row_index] - 1)]\n",
    "  \n",
    "# --- MODIFYING MATRIX FUNCTIONS ---\n",
    "def permuteRowToLeft(m, c): #move symetrically row [0, 1, 2] => [1, 2, 0]\n",
    "  x_index, y_index, n_rows, n_cols, m = getMCellInfo(m, c)\n",
    "  m[ y_index ] = m[ y_index, leftPermutation(m) ]\n",
    "  return m, c\n",
    "\n",
    "def permuteRowToRight(m, c): # move symetrically row [0, 1, 2] => [2, 0, 1]\n",
    "  x_index, y_index, n_rows, n_cols, m = getMCellInfo(m, c)\n",
    "  m[ y_index ] = m[ y_index, rightPermutation(m) ]\n",
    "  return m, c\n",
    "\n",
    "def permuteColUpwards(m, c): # move symetrically col [[0],[1],[2]] => [[1],[2],[0]]\n",
    "  x_index, y_index, n_rows, n_cols, m = getMCellInfo(m, c)\n",
    "  m[:, x_index ] = m[ upwardsPermutation(m), x_index ]\n",
    "  return m, c\n",
    "\n",
    "def permuteColDownwards(m, c): # move symetrically col [[0],[1],[2]] => [[1],[2],[0]]\n",
    "  x_index, y_index, n_rows, n_cols, m = getMCellInfo(m, c)\n",
    "  m[:, x_index ] = m[ downwardsPermutation(m), x_index ]\n",
    "  return m, c\n",
    "\n",
    "# --- MOVING PATTERN FUNCTIONS ---\n",
    "movePatternToLeft = lambda pattern: pattern[:, leftPermutation(pattern)]\n",
    "movePatternToRight = lambda pattern: pattern[:, rightPermutation(pattern)]\n",
    "movePatternUpwards = lambda pattern: pattern[upwardsPermutation(pattern), :]\n",
    "movePatternDownwards = lambda pattern: pattern[downwardsPermutation(pattern), :]\n",
    "\n",
    "# needs pattern applied\n",
    "patternMovement = {\n",
    "  'movePatternToLeft': movePatternToLeft,\n",
    "  'movePatternToRight': movePatternToRight,\n",
    "  'movePatternUpwards': movePatternUpwards,\n",
    "  'movePatternDownwards': movePatternDownwards,\n",
    "}\n",
    "\n",
    "# --- COLOR PATTERN ---\n",
    "colorPattern = lambda pattern, color: np.where(pattern == black, pattern, color)\n",
    "# colorAntiPattern = lambda pattern, color: np.where(pattern != black, pattern, black)"
   ]
  },
  {
   "cell_type": "markdown",
   "metadata": {},
   "source": [
    "> One proposal to organize functions"
   ]
  },
  {
   "cell_type": "raw",
   "metadata": {},
   "source": [
    "def atomicFunctions():\n",
    "  black, blue, red, green, yellow, gray, magenta, orange, sky, brown = range(10)\n",
    "  shape_col_index, shape_row_index = 1, 0\n",
    "  return {\n",
    "    # move one pixel to the left\n",
    "    'move_left': moveMToLeft,\n",
    "    'move_right': {\n",
    "      'f': moveMToRight,\n",
    "      'from_analysis':\n",
    "    }\n",
    "    # move one pizel to the right\n",
    "    #'change_matrix_size': lambda m, n: np.,\n",
    "    #'multiply': \n",
    "  }"
   ]
  },
  {
   "cell_type": "markdown",
   "metadata": {},
   "source": [
    "## Let's start by the simple \n",
    "\n",
    "> Grab one input output from one task (00d62c1b)"
   ]
  },
  {
   "cell_type": "code",
   "execution_count": 6,
   "metadata": {},
   "outputs": [],
   "source": [
    "a = np.matrix([\n",
    "  [1,2,3, 4],\n",
    "  [2,3,4, 5],\n",
    "  [3,4,5, 6],\n",
    "])\n",
    "\n",
    "pattern = np.matrix([ # input\n",
    "  [0, 0, 0, 0, 0, 0],\n",
    "  [0, 0, 3, 0, 0, 0],\n",
    "  [0, 3, 0, 3, 0, 0],\n",
    "  [0, 0, 3, 0, 3, 0],\n",
    "  [0, 0, 0, 3, 0, 0],\n",
    "  [0, 0, 0, 0, 0, 0]\n",
    "])\n",
    "output =  [[0, 0, 0, 0, 0, 0],\n",
    "           [0, 0, 3, 0, 0, 0],\n",
    "           [0, 3, 4, 3, 0, 0],\n",
    "           [0, 0, 3, 4, 3, 0],\n",
    "           [0, 0, 0, 3, 0, 0],\n",
    "           [0, 0, 0, 0, 0, 0]]\n"
   ]
  },
  {
   "cell_type": "markdown",
   "metadata": {},
   "source": [
    "> Could we maybe approach the task solving by using patterns, and so, graphs?"
   ]
  },
  {
   "cell_type": "code",
   "execution_count": 7,
   "metadata": {},
   "outputs": [
    {
     "data": {
      "image/png": "[encoded data removed]",
      "text/plain": [
       "<Figure size 432x288 with 1 Axes>"
      ]
     },
     "metadata": {},
     "output_type": "display_data"
    }
   ],
   "source": [
    "# Get Neighbors for zombie moves according to rules\n",
    "def getNeigborCellList(i, j, m, condition):\n",
    "  n = []\n",
    "  if not condition(m[i, j]): return n\n",
    "  for i_sub in range(3): # Rows\n",
    "    for j_sub in range(3): # Cols\n",
    "      if i_sub == 1 and j_sub == 1: continue \n",
    "      ip = i + i_sub - 1\n",
    "      jp = j + j_sub - 1\n",
    "      if ip < 0 or jp < 0 or ip == len(m) or jp == len(m[0]) : continue\n",
    "      #print(ip,jp)\n",
    "      #print(m[ip, jp])\n",
    "      if condition(m[ip, jp]):\n",
    "        #n.append(m[i + i_sub - 1][j + j_sub - 1])\n",
    "        n.append( (i + i_sub - 1, j + j_sub - 1) )\n",
    "  return n\n",
    "  \n",
    "def toGraph(grid, color):\n",
    "  G = nx.Graph()\n",
    "  for lon in range(grid.shape[0]):\n",
    "    for lat in range(grid.shape[1]):\n",
    "      #print(lon, lat)\n",
    "      condition_valid = lambda v: v == color\n",
    "      neighbor_cells = getNeigborCellList(lon, lat, grid, condition_valid) # just study possible moves\n",
    "      for n in neighbor_cells:\n",
    "        #print(n, lon, lat)\n",
    "        G.add_edge(f'{lon}_{lat}', f'{n[0]}_{n[1]}') #weight = ?\n",
    "  return G\n",
    "\n",
    "v = np.matrix([[0, 0, 0, 0, 0, 0],\n",
    "  [0, 0, 3, 0, 0, 0],\n",
    "  [0, 3, 4, 3, 0, 0],\n",
    "  [0, 0, 3, 4, 3, 0],\n",
    "  [0, 0, 0, 3, 0, 0],\n",
    "  [0, 0, 0, 0, 0, 0]])\n",
    "G = toGraph(v, 3)\n",
    "nx.draw_networkx(G, with_labels = True)"
   ]
  },
  {
   "cell_type": "markdown",
   "metadata": {},
   "source": [
    "> **<span style=\"color:red\">No</span>**, patterns shouldn't be a part of a descriptor, patterns should be learned *(first example of how easy it is to, mistakenly, propose \"already digesested\" tasks/functions)*\n",
    "\n",
    "> Now that we have some atomic functions <span style=\"color:tomato\">How to map input to output?</span>"
   ]
  },
  {
   "cell_type": "code",
   "execution_count": 8,
   "metadata": {},
   "outputs": [],
   "source": [
    "ex = info['train'][0]\n",
    "inp = ex['input']\n",
    "out = ex['output']\n",
    "functions = []\n",
    "def howToMapInputToOutput(funs, inp, out):\n",
    "  inp, out = np.matrix(inp), np.matrix(out) \n",
    "  # TODO\n",
    "  \n",
    "howToMapInputToOutput(functions, inp, out)"
   ]
  },
  {
   "cell_type": "code",
   "execution_count": 9,
   "metadata": {},
   "outputs": [],
   "source": [
    "jl, c = permuteColUpwards(a, (1, 1))\n",
    "jr, c = permuteColDownwards(a, (1, 2))"
   ]
  },
  {
   "cell_type": "code",
   "execution_count": 10,
   "metadata": {},
   "outputs": [
    {
     "name": "stdout",
     "output_type": "stream",
     "text": [
      "[[1 2 3 4]\n",
      " [2 3 4 5]\n",
      " [3 4 5 6]]\n",
      "[[1 3 3 4]\n",
      " [2 4 4 5]\n",
      " [3 2 5 6]]\n",
      "[[1 4 3 4]\n",
      " [2 2 4 5]\n",
      " [3 3 5 6]]\n"
     ]
    }
   ],
   "source": [
    "print(a)\n",
    "print(jl)\n",
    "print(jr)"
   ]
  },
  {
   "cell_type": "markdown",
   "metadata": {},
   "source": [
    "> Trying to develop this function, brought a very important question to develop: <span style=\"color:tomato\">Are the functions proposed pertinent?</span> A better approach seems to handle a **cell as the minimal unit**, and everything has to be done from the \"point of view\" of a cell, no patterns usage"
   ]
  },
  {
   "cell_type": "code",
   "execution_count": 11,
   "metadata": {},
   "outputs": [],
   "source": [
    "# get all around neighbors values of cell dict {(cell): value ...}\n",
    "getNeighCells = lambda x, i, j: { \n",
    "  (ip, jp) : x[i+ip, j+jp] \n",
    "    for ip, jp in product([1, -1, 0], repeat=2) \n",
    "      if 0 <= i+ip < x.shape[0] and 0 <= j+jp < x.shape[1]\n",
    "}\n",
    "\n",
    "# --- Cell & Neighbors information Extaction ---\n",
    "cellColor = lambda x, i, j: x[i, j]\n",
    "# get the pattern that the neighbors draw in a list\n",
    "neighPattern = lambda x, i, j: np.array([ x[i+ip, j+jp] for ip, jp in product([1, -1, 0], repeat=2) if 0 <= i+ip < x.shape[0] and 0 <= j+jp < x.shape[1] ])\n",
    "# [upper_neigh_value, cell_value, lower_neigh_value]\n",
    "verticalLine = lambda x, i, j: np.array(x[i-(1 if i>0 else 0):i+1+(0 if i==x.shape[1] else 1),j])\n",
    "# [left_neigh_value, cell_value, right_neigh_value]\n",
    "horizontalLine = lambda x, i, j: np.array(x[i,j-(1 if j>0 else 0):j+1+(0 if j==x.shape[0] else 1)])\n",
    "# [bottom_left_neigh_value, cell_value, top_right_neigh_value]\n",
    "bl_trDiagonal = lambda x, i, j: np.array([ x[i+ip,j+jp] for ip, jp in [(1,-1),(0,0),(-1,1)] if 0<=i+ip<x.shape[0] and 0<=j+jp<x.shape[1] ])\n",
    "# [top_left_neigh_value, cell_value, bottom_right_neigh_value]\n",
    "tl_brDiagonal = lambda x, i, j: np.array([ x[i+ip,j+jp] for ip, jp in [(-1,-1),(0,0),(1,1)] if 0<=i+ip<x.shape[0] and 0<=j+jp<x.shape[1] ])"
   ]
  },
  {
   "cell_type": "code",
   "execution_count": 12,
   "metadata": {},
   "outputs": [
    {
     "name": "stdout",
     "output_type": "stream",
     "text": [
      "this is the cell studied:  (1, 1) , and here its surroundings:\n",
      "array([[0, 0, 0],\n",
      "       [0, 0, 3],\n",
      "       [0, 3, 0]])\n",
      "--- caracterize it from all options caracterize options ---\n",
      "neigh: \t[0 0 3 0 0 0 3 0 0]\n",
      "verticalLine: \t[0 0 3]\n",
      "horizontalLine: \t[0 0 3]\n",
      "bl_trDiagonal: \t[0 0 0]\n",
      "tr_tlDiagonal: \t[0 0 0]\n",
      "color: \t0\n"
     ]
    }
   ],
   "source": [
    "importlib.reload(hp)\n",
    "importlib.reload(sc)\n",
    "importlib.reload(ac)\n",
    "\n",
    "# characterize a cell\n",
    "cell = (0,0)\n",
    "n_colors = 10\n",
    "shape_col_index, shape_row_index = 1, 0\n",
    "black, blue, red, green, yellow, gray, magenta, orange, sky, brown = range(n_colors)\n",
    "\n",
    "colorFun = {\n",
    "  'black': lambda x, i, j: black,\n",
    "  'blue': lambda x, i, j: blue,\n",
    "  'red': lambda x, i, j: red,\n",
    "  'green': lambda x, i, j: green,\n",
    "  'yellow': lambda x, i, j: yellow,\n",
    "  'gray': lambda x, i, j: gray,\n",
    "  'magenta': lambda x, i, j: magenta,\n",
    "  'orange': lambda x, i, j: orange,\n",
    "  'sky': lambda x, i, j: sky,\n",
    "  'brown': lambda x, i, j: brown\n",
    "}\n",
    "\n",
    "ex_inp = np.array(pattern)\n",
    "ex_out = np.array(output)\n",
    "\n",
    "caracterize = {\n",
    "  #'color': ac.cellColor, # just one option of COLOR\n",
    "  'neigh': ac.neighPattern,\n",
    "  'verticalLine': ac.verticalLine,\n",
    "  'horizontalLine': ac.horizontalLine,\n",
    "  'bl_trDiagonal': ac.bl_trDiagonal,\n",
    "  'tr_tlDiagonal': ac.tl_brDiagonal,\n",
    "  'color': ac.cellColor,\n",
    "} # dict_to_store\n",
    "\n",
    "cell = (1,1)\n",
    "print('this is the cell studied: ', cell, ', and here its surroundings:')\n",
    "pp(ex_inp[cell[0]-1:cell[0]+1+1, cell[1]-1:cell[1]+1+1])\n",
    "print('--- caracterize it from all options caracterize options ---')\n",
    "for name, f in caracterize.items():\n",
    "  print(f'{name}: \\t{f(ex_inp, *cell)}')"
   ]
  },
  {
   "cell_type": "markdown",
   "metadata": {},
   "source": [
    "> A First approach to an organization of how the objective function could be organized (evaluate changes, evaluate the \"what\", the \"how\")"
   ]
  },
  {
   "cell_type": "code",
   "execution_count": 13,
   "metadata": {},
   "outputs": [],
   "source": [
    "applications = {\n",
    "  'changes': {\n",
    "    'True': lambda x,i,j: True,\n",
    "    'False': lambda x,i,j: False,\n",
    "  },\n",
    "  'what': {\n",
    "    'color': {\n",
    "      'black': lambda x, i, j: black,\n",
    "      'blue': lambda x, i, j: blue,\n",
    "      'red': lambda x, i, j: red,\n",
    "      'green': lambda x, i, j: green,\n",
    "      'yellow': lambda x, i, j: yellow,\n",
    "      'gray': lambda x, i, j: gray,\n",
    "      'magenta': lambda x, i, j: magenta,\n",
    "      'orange': lambda x, i, j: orange,\n",
    "      'sky': lambda x, i, j: sky,\n",
    "      'brown': lambda x, i, j: brown \n",
    "    }\n",
    "  },\n",
    "  'how': {\n",
    "    'neigh': ac.neighPattern,\n",
    "    'verticalLine': ac.verticalLine,\n",
    "    'horizontalLine': ac.horizontalLine,\n",
    "    'bl_trDiagonal': ac.bl_trDiagonal,\n",
    "    'tl_brDiagonal': ac.tl_brDiagonal,\n",
    "  }\n",
    "}"
   ]
  },
  {
   "cell_type": "markdown",
   "metadata": {},
   "source": [
    "## Sequential atomic functions application: \n",
    "### *In the research for an objective function and a way to map inputs to outpus (atomic functions applications)*"
   ]
  },
  {
   "cell_type": "markdown",
   "metadata": {},
   "source": [
    "*Model how a matrix could be filled with applications, in order to execute them in a second step*"
   ]
  },
  {
   "cell_type": "code",
   "execution_count": 14,
   "metadata": {},
   "outputs": [
    {
     "name": "stdout",
     "output_type": "stream",
     "text": [
      "neigh\n",
      "(1, 1) [0 0 3 0 0 0 3 0 0] [4 0 3 0 0 0 3 0 0]\n",
      "(1, 2) [3 3 0 0 0 0 0 0 3] [3 3 4 0 0 0 0 0 3]\n",
      "(1, 3) [0 0 3 0 0 0 0 3 0] [0 4 3 0 0 0 0 3 0]\n",
      "(2, 1) [3 0 0 3 0 0 0 0 3] [3 0 0 3 0 0 4 0 3]\n",
      "(2, 2) [0 0 3 0 0 3 3 3 0] [4 0 3 0 0 3 3 3 4]\n",
      "(2, 3) [3 3 0 0 3 0 0 0 3] [3 3 4 0 3 0 0 4 3]\n",
      "(2, 4) [0 0 3 0 0 0 0 3 0] [0 4 3 0 0 0 0 3 0]\n",
      "(3, 1) [0 0 0 0 0 3 3 0 0] [0 0 0 4 0 3 3 0 0]\n",
      "(3, 2) [3 0 0 3 3 0 0 0 3] [3 0 0 3 3 4 4 0 3]\n",
      "(3, 3) [0 0 3 0 0 3 3 3 0] [0 0 3 0 4 3 3 3 4]\n",
      "(3, 4) [0 3 0 0 3 0 0 0 3] [0 3 0 0 3 0 0 4 3]\n",
      "(4, 2) [0 0 0 0 0 3 3 0 0] [0 0 0 4 0 3 3 0 0]\n",
      "(4, 3) [0 0 0 3 3 0 0 0 3] [0 0 0 3 3 4 0 0 3]\n",
      "(4, 4) [0 0 0 0 0 3 0 3 0] [0 0 0 0 4 3 0 3 0]\n",
      "verticalLine\n",
      "(1, 2) [0 3 0] [0 3 4]\n",
      "(2, 2) [3 0 3] [3 4 3]\n",
      "(2, 3) [0 3 0] [0 3 4]\n",
      "(3, 2) [0 3 0] [4 3 0]\n",
      "(3, 3) [3 0 3] [3 4 3]\n",
      "(4, 3) [0 3 0] [4 3 0]\n",
      "horizontalLine\n",
      "(2, 1) [0 3 0] [0 3 4]\n",
      "(2, 2) [3 0 3] [3 4 3]\n",
      "(2, 3) [0 3 0] [4 3 0]\n",
      "(3, 2) [0 3 0] [0 3 4]\n",
      "(3, 3) [3 0 3] [3 4 3]\n",
      "(3, 4) [0 3 0] [4 3 0]\n",
      "bl_trDiagonal\n",
      "(1, 3) [0 0 0] [4 0 0]\n",
      "(2, 2) [0 0 0] [0 4 0]\n",
      "(2, 4) [0 0 0] [4 0 0]\n",
      "(3, 1) [0 0 0] [0 0 4]\n",
      "(3, 3) [0 0 0] [0 4 0]\n",
      "(4, 2) [0 0 0] [0 0 4]\n",
      "tr_tlDiagonal\n",
      "(1, 1) [0 0 0] [0 0 4]\n",
      "(2, 2) [0 0 0] [0 4 4]\n",
      "(3, 3) [0 0 0] [4 4 0]\n",
      "(4, 4) [0 0 0] [4 0 0]\n",
      "color\n",
      "(2, 2) 0 4\n",
      "(3, 3) 0 4\n"
     ]
    }
   ],
   "source": [
    "i_d = hp.createGridDict(ex_inp)\n",
    "o_d = hp.createGridDict(ex_out)\n",
    "for name, f in caracterize.items():\n",
    "  print(name)\n",
    "  for cell, _ in i_d.items():\n",
    "    if not np.array_equal(f(ex_inp, *cell), f(ex_out, *cell)):\n",
    "      if name in applications['what']: \n",
    "        for k, app in applications['what'][name].items():\n",
    "          if app(ex_inp, *cell) == f(ex_out, *cell):\n",
    "            if not 'app' in i_d[cell]: i_d[cell]['app'] = []\n",
    "            i_d[cell]['app'] += [ app ]\n",
    "      print(cell, f(ex_inp, *cell), f(ex_out, *cell)) # Show what would be the result of the application"
   ]
  },
  {
   "cell_type": "markdown",
   "metadata": {},
   "source": [
    "> Next two notebook cells were converted to \"markdown\" because there's no need to show a poorly-made intent to develop the DSL and how it would be applied (*it took us a lot of time though, to plan it and develop it, and we're worried about how the mark will be made, so if invested time is taken into account, we're showing this*). It's half-made because in a team meeting, we agreed to stop working on this approach and refresh our minds with new ideas, end here's where another breakout happen: <span style=\"color:tomato\">what if we actually could use **deep learing** approaches to solve this?</span>"
   ]
  },
  {
   "cell_type": "markdown",
   "metadata": {},
   "source": [
    "**<span style=\"color:blue\">* developement converted to markdown</span>**\n",
    "```python\n",
    "n = 2\n",
    "samples = info['train'][0:n]\n",
    "\n",
    "for sample in samples:\n",
    "  i = np.array(sample['input'])\n",
    "  o = np.array(sample['output'])\n",
    "  i_d = hp.createGridDict(i)\n",
    "  o_d = hp.createGridDict(o)\n",
    "  changes = {}\n",
    "  for cell, _ in i_d.items(): \n",
    "    f = ac.cellColor # Color is the only thing changing, when localizing a color change stop to analyse\n",
    "    is_same_array = lambda f, a, b, cell: np.array_equal(f(a, *cell), f(b, *cell))\n",
    "    change_in_cell = not is_same_array(f, i, o, cell)\n",
    "    i_d[cell]['app'] = [ applications['changes'][ str( change_in_cell ) ] ] # trace change or not change\n",
    "    # Stop and analyse, apply until applications are enough\n",
    "    # Maybe first forward analysis will throw that some changes of colors are enough, \n",
    "    # with another example, and comparng with previous, some other rules might come \"to mind\"\n",
    "    what = applications['what']\n",
    "    if change_in_cell: \n",
    "      changes[cell] = [ c for cname, c in what['color'].items() if c(i, *cell) == f(o, *cell) ] # what -> Colors \n",
    "      i_d[cell]['app'] += changes[cell] \n",
    "    # changes have been spoted, \n",
    "    # Understand why by describing and relating to changes\n",
    "    how = applications['how']\n",
    "    for cname, c in how.items():\n",
    "      if not is_same_array(c, i, o, cell):\n",
    "            print(is_same_array(c, i, o, cell))\n",
    "    \n",
    "    \n",
    "    if change_in_cell: print(cell, f(i, *cell), f(o, *cell))\n",
    "    #else: \n",
    "      #print(f'missing -> {name}')\n",
    "```"
   ]
  },
  {
   "cell_type": "markdown",
   "metadata": {},
   "source": [
    "**<span style=\"color:blue\">* developement converted to markdown</span>**\n",
    "```python\n",
    "n = 1\n",
    "samples = info['train'][0:n]\n",
    "\n",
    "for sample in samples:\n",
    "  i = np.array(sample['input'])\n",
    "  o = np.array(sample['output'])\n",
    "  i_d = hp.createGridDict(i)\n",
    "  o_d = hp.createGridDict(o)\n",
    "  changes = {}\n",
    "  for cell, _ in i_d.items(): \n",
    "    if not 'caracterize' in i_d[cell]: i_d[cell]['caracterize'] = {}\n",
    "    fc = ac.cellColor # Color is the only thing changing, when localizing a color change stop to analyse\n",
    "    is_same_array = lambda f,a,b,cell: np.array_equal(f(a, *cell), f(b, *cell))\n",
    "    i_d[cell]['caracterize']['changed'] = applications['changes'][ str( not is_same_array(fc,i,o,cell) ) ]\n",
    "    what = applications['what']\n",
    "    i_d[cell]['caracterize']['color'] = i[cell]\n",
    "    how = applications['how']\n",
    "    for cname, c in how.items():\n",
    "      if not is_same_array(c, i, o, cell):\n",
    "            print(is_same_array(c, i, o, cell))\n",
    "    \n",
    "    if change_in_cell: print(cell, f(i, *cell), f(o, *cell))\n",
    "```"
   ]
  },
  {
   "cell_type": "markdown",
   "metadata": {},
   "source": [
    "## Deep Learning Second Thoughts 💭\n",
    "\n",
    "+ We maintained same line of thought : \"atomic functions\".\n",
    "\n",
    "+ <span style=\"color:blue\">**We're just handling same input and output shapes**</span>"
   ]
  },
  {
   "cell_type": "code",
   "execution_count": 15,
   "metadata": {},
   "outputs": [
    {
     "name": "stdout",
     "output_type": "stream",
     "text": [
      "total characteristics available -> 15\n"
     ]
    }
   ],
   "source": [
    "neigh_info = {\n",
    "  'neigh': ac.neighPattern, # inputs(x, *cell)\n",
    "  'verticalLine': ac.verticalLine, # inputs(x, *cell)\n",
    "  'horizontalLine': ac.horizontalLine, # inputs(x, *cell)\n",
    "  'bl_trDiagonal': ac.bl_trDiagonal, # inputs(x, *cell)\n",
    "  'tr_tlDiagonal': ac.tl_brDiagonal, # inputs(x, *cell)\n",
    "}\n",
    "color_info = {\n",
    "  **{ cname: lambda x,i,j,color: x[i,j] == color for cname, cvalue in colors.items() } # inputs(x, *cell, color)\n",
    "}\n",
    "\n",
    "caracterize = {\n",
    "  **neigh_info,  # inputs(x, *cell)\n",
    "  **color_info,  # inputs(x, *cell, color)\n",
    "} # dict_to_store\n",
    "\n",
    "input_characteristics = caracterize.keys() # characteristics/features that will be taken into account for the task input matrices\n",
    "#output_characteristics = color_info.keys() \n",
    "output_characteristics = input_characteristics # characteristic /features that will be taken into account for the task output matrices\n",
    "\n",
    "print(f'total characteristics available -> {len(caracterize)}')\n",
    "ex_inp, ex_out = np.array(pattern), np.array(output)"
   ]
  },
  {
   "cell_type": "code",
   "execution_count": 25,
   "metadata": {},
   "outputs": [],
   "source": [
    "def caracterizeIO(m, caracterize, characteristics):\n",
    "  \"\"\"Convert a matrix in a dict where keys are position in matrices and values are characteristics\"\"\"\n",
    "  m_d = hp.createGridDict(m)\n",
    "  for name, f in caracterize.items():\n",
    "    for cell, _ in m_d.items():\n",
    "      is_same_color = lambda fn,x,i,j: (np.unique(fn(x,i,j))).shape[0] == 1\n",
    "      if name in characteristics:\n",
    "        if name in colors:\n",
    "          m_d[ cell ][ name ] = f(m, *cell, colors[name])\n",
    "        else:\n",
    "          m_d[ cell ][ name ] = is_same_color(f, m, *cell)\n",
    "  return m_d\n",
    "\n",
    "def convertToDimentionalMatrix(m, m_d, caracterize):\n",
    "  \"\"\"From caracterized matrix (dict of { (cell): characteristics, ... }), get a matrix for each caracteristic\"\"\"\n",
    "  n_caracteristics = len(caracterize)\n",
    "  dim_m = np.empty((n_caracteristics, *m.shape))\n",
    "  for cell, char_cell in m_d.items():\n",
    "    color_count, others_count = 0, 0\n",
    "    for j, cname in enumerate(caracterize):\n",
    "      x,y = cell\n",
    "      # from 0 to ncolors, let it be first places, afterwards the others\n",
    "      if cname in colors:\n",
    "        dim_m[color_count, x, y] = int(char_cell[cname]) if type(char_cell[cname]) == bool else char_cell[cname]\n",
    "        color_count += 1\n",
    "      else:\n",
    "        dim_m[others_count+len(colors), x, y] = int(char_cell[cname]) if type(char_cell[cname]) == bool else char_cell[cname]\n",
    "        others_count += 1\n",
    "  return dim_m\n",
    "\n",
    "def transformCaracterize(m, chars):\n",
    "  x = np.array(m)\n",
    "  x_d = caracterizeIO(x, caracterize, chars)\n",
    "  return convertToDimentionalMatrix(x, x_d, chars)\n",
    "\n",
    "#i_d = caracterizeIO(ex_inp, caracterize, input_characteristics)\n",
    "#i_c = convertToDimentionalMatrix(ex_inp, i_d, input_characteristics)"
   ]
  },
  {
   "cell_type": "markdown",
   "metadata": {},
   "source": [
    "*We decided to use pytorch because it's a more flexible framework than keras*"
   ]
  },
  {
   "cell_type": "code",
   "execution_count": 16,
   "metadata": {},
   "outputs": [],
   "source": [
    "import torch\n",
    "import torch.nn as nn\n",
    "import torch.tensor as tensor\n",
    "import torch.nn.functional as F\n",
    "import torch.optim as optim\n",
    "device = torch.device('cpu')\n",
    "device = torch.device('cuda:0' if torch.cuda.is_available() else 'cpu')"
   ]
  },
  {
   "cell_type": "markdown",
   "metadata": {},
   "source": [
    "*Suggestion for initial optimizer and loss function*\n",
    "+ *BinaryClass -> Optimizer: RMSProp, Loss: BinaryCrossEntropy*\n",
    "+ *MultiClass -> Optimizer: Softmax/RMSProp/Adam, Loss: CategoricalCrossEntropy*\n",
    "+ *Regression -> Optimizer: Adam, Loss: MSE*\n",
    "\n",
    "**We will use as a rule [Adam](https://towardsdatascience.com/adam-latest-trends-in-deep-learning-optimization-6be9a291375c) optimizer since it's documented that it's faster than SGD and somehow more performant, for sure, this parameter could be changed**"
   ]
  },
  {
   "cell_type": "code",
   "execution_count": 17,
   "metadata": {},
   "outputs": [],
   "source": [
    "class SimpleInputOutputNet(nn.Module):  \n",
    "  def __init__(self, init_dict):\n",
    "    \"\"\"input_dict.keys() == ['in_ch', 'in_out_ch', 'in_ker', 'out_ch']\"\"\"\n",
    "    super(SimpleInputOutputNet, self).__init__()\n",
    "    in_ch, in_out_ch, in_ker = init_dict['in_ch'], init_dict['in_out_ch'], init_dict['in_ker']\n",
    "    out_ch = init_dict['out_ch']\n",
    "    self.conv1 = nn.Conv2d(in_ch, in_out_ch, in_ker, padding=1)\n",
    "    self.conv2 = nn.Conv2d(in_out_ch, out_ch, kernel_size=1)\n",
    "  def forward(self, x):\n",
    "    x = F.relu(self.conv1(x))\n",
    "    x = self.conv2(x)\n",
    "    return x\n",
    "  def is_automata(self): return False"
   ]
  },
  {
   "cell_type": "code",
   "execution_count": 104,
   "metadata": {},
   "outputs": [],
   "source": [
    "def isSameInputOutputShape(task):\n",
    "    return all([np.array(el['input']).shape == np.array(el['output']).shape for el in task['train']])\n",
    "  \n",
    "def getClassyOutput(task): \n",
    "  \"\"\"get simply the output as a class\"\"\"\n",
    "  return task['output']\n",
    "\n",
    "def getCharacterizedBinaryOutput(task, output_characteristics):\n",
    "  \"\"\"get output different dimensions with matrices of 0 and 1\"\"\"\n",
    "  return transformCaracterize(task['output'], output_characteristics)\n",
    "\n",
    "def getOutput(task, output_characteristics, is_class=True):\n",
    "  return getClassyOutput(task) if is_class else getCharacterizedBinaryOutput(task, output_characteristics)\n",
    "\n",
    "def getInput(task, input_characteristics):\n",
    "  return transformCaracterize(task['input'], input_characteristics)\n",
    "\n",
    "def solveTask(epochs, task_samples, net, criterion, input_char, output_char, optim_args={'lr':0.1}, steps=1, is_class=True, train_outToOut=False, show_prints=False):\n",
    "  all_losses, step = [], 0\n",
    "  for step in range(0, steps):\n",
    "    optimizer = optim.Adam(net.parameters(), lr=(optim_args['lr']/(step+1)))\n",
    "    #optimizer = optim.Adam(net.parameters(), **optim_args)\n",
    "    is_automata = net.is_automata()\n",
    "    losses = []\n",
    "    for epoch in range(epochs):\n",
    "      optimizer.zero_grad()\n",
    "      running_loss = 0.0\n",
    "      for t, task_sample in enumerate(task_samples):\n",
    "        # -- Get Input and Output --\n",
    "        inp, out = getInput(task_sample, input_char), getOutput(task_sample, output_char, is_class=is_class)\n",
    "        inp = tensor(inp).unsqueeze(0).float().to(device) # adds_a dimension to the shape, and convert to float\n",
    "        out = tensor(out).unsqueeze(0).long().to(device) # adds_a dimension to the shape, and convert to long == int  \n",
    "        #inp = tensor(inp2img(sample[\"input\"])).unsqueeze(0).float().to(device) \n",
    "        #out = tensor(sample['output']).long().unsqueeze(0).to(device)\n",
    "        if show_prints: print(f'(input, output) shape ({inp.shape}, {out.shape})')\n",
    "\n",
    "        predicted = net(inp) if not is_automata else net(inp, step+1)\n",
    "        running_loss += criterion(predicted, out)\n",
    "        if show_prints: print(f'(predicted) shape ({predicted.shape})')\n",
    "\n",
    "        if train_outToOut:\n",
    "          out_inp = getOutput(task_sample, input_char, False)\n",
    "          out_inp = tensor(out_inp).unsqueeze(0).float().to(device) \n",
    "          #out_inp = tensor(inp2img(sample[\"output\"])).unsqueeze(0).float().to(device) \n",
    "          if show_prints: print(f'(output as input) shape {out_inp.shape}')\n",
    "          predicted = net(out_inp) if not is_automata else net(out_inp, 1)\n",
    "          running_loss += criterion(predicted, out)\n",
    "      running_loss.backward()\n",
    "      optimizer.step()\n",
    "      losses.append(running_loss.item())\n",
    "    all_losses += losses\n",
    "  return net, all_losses, step "
   ]
  },
  {
   "cell_type": "code",
   "execution_count": 105,
   "metadata": {},
   "outputs": [],
   "source": [
    "@torch.no_grad()\n",
    "def predictOutputTenDimColors(net, task, input_char, steps=1 ):\n",
    "  predictions = []\n",
    "  for sample in task:\n",
    "    inp = getInput(sample, input_char)\n",
    "    inp = tensor(inp).unsqueeze(0).float().to(device)\n",
    "    is_automata = net.is_automata()\n",
    "    pred = net(inp) if not is_automata else net(inp, (steps+1))\n",
    "    pred = pred.argmax(1) # (shape: [1, 10, _,_]) argmax-Returns the indices of the maximum value of all elements in the input tensor. dim: dimension to reduce\n",
    "    pred = pred.squeeze().cpu().numpy() #squeeze returns tesnor with dimensions of 1 removed, so the first dimension in this case\n",
    "    predictions.append(pred)\n",
    "  return predictions\n",
    "\n",
    "def getTaskSuccess(task_samples, predictions):\n",
    "  is_same_array = lambda a,b,cell: np.array_equal(ac.cellColor(a, *cell), ac.cellColor(b, *cell))\n",
    "  success = []\n",
    "  for sample, prediction in zip(task_samples, predictions):\n",
    "    output, prediction = np.array(sample['output']), np.array(prediction)\n",
    "    out_d, pred_d = hp.createGridDict(output), hp.createGridDict(prediction)\n",
    "    same = np.array([ is_same_array(output, prediction, cell) for cell, _ in out_d.items()])\n",
    "    success += [ np.all(same) ]\n",
    "  good = sum([int(v) for v in success])\n",
    "  return success, good, len(success) - good     \n",
    "  \n",
    "def fillReport(report, task_path, train, test):\n",
    "  train_success, train_good, train_bad = train\n",
    "  test_success, test_good, test_bad = test\n",
    "  if train_bad == 0: report['trained_success'] += 1\n",
    "  if train_bad == 0 and test_bad > 0: report['task_train_success'] += [task_path]\n",
    "  if test_bad == 0: report['success'] += 1\n",
    "  if train_bad == 0 and test_bad == 0: report['task_success'] += [task_path]\n",
    "  if train_good > 0 and train_bad > 0: report['half_sucess'] +=1\n",
    "  if train_good == 0: report['fails'] += 1"
   ]
  },
  {
   "cell_type": "markdown",
   "metadata": {},
   "source": [
    "### Run for a simple convolutional layer\n",
    "> explore if it's possible to build, and to train"
   ]
  },
  {
   "cell_type": "code",
   "execution_count": 204,
   "metadata": {},
   "outputs": [],
   "source": [
    "# --- RUN For Simple Convolutional Layer\n",
    "def runSimpleNet(task_paths, init_params, in_out_char, model, criterion=nn.CrossEntropyLoss(), optim_args={'lr':0.1}, is_class=True, train_outToOut=False, steps=1, epochs=100,\n",
    "                 show_prints=False, show_plots=False, show_results=True, grabbing_net=False, is_test=False):\n",
    "  report = { 'trained_success': 0, 'half_sucess': 0, 'fails': 0, 'success': 0, 'task_train_success': [], 'task_success': [] }\n",
    "  nets_info = { }\n",
    "  showed = False\n",
    "  folder_path = training_path if not is_test else test_path\n",
    "  if grabbing_net: net = model(init_params).to(device)\n",
    "  for task_path in task_paths:\n",
    "    task_info = hp.getGeneralInfoFromTask(f'{folder_path}/{task_path}')\n",
    "    if not isSameInputOutputShape(task_info): continue\n",
    "    input_char, output_char = in_out_char['input_char'], in_out_char['output_char']\n",
    "    samples = task_info['train']\n",
    "    if not grabbing_net: net = model(init_params).to(device)\n",
    "    if not showed and show_results: \n",
    "      print(net.eval())\n",
    "      showed = True\n",
    "    net, losses, step = solveTask(\n",
    "      epochs=epochs, task_samples=samples,\n",
    "      net=net, \n",
    "      criterion=criterion, #nn.CrossEntropyLoss() OR nn.MSELoss()\n",
    "      optim_args=optim_args,\n",
    "      input_char=input_char, output_char=output_char,\n",
    "      steps=steps,\n",
    "      is_class=is_class,\n",
    "      train_outToOut=train_outToOut,\n",
    "      show_prints=show_prints\n",
    "    )\n",
    "    if show_plots: plt.plot(losses)\n",
    "    predictions = predictOutputTenDimColors(net, samples, input_char, step)\n",
    "    success, good, bad = getTaskSuccess(samples, predictions)\n",
    "    if (not show_prints and show_results) or show_prints: print(f'--- {good} out of {len(success)} were ok ---') if bad != 0 else print('---- Successful training!!! :) ----')\n",
    "    if show_plots: dp.plotResults(samples, predictions)\n",
    "    test_success, test_good, test_bad = [], 0, 1\n",
    "    if bad == 0 and not is_test:\n",
    "      test_predictions = predictOutputTenDimColors(net, task_info['test'], input_char, step)\n",
    "      test_success, test_good, test_bad = getTaskSuccess(task_info['test'], test_predictions)\n",
    "      if show_results: print(f'--- {test_good} out of {len(test_success)} were ok ---') if test_bad != 0 else print('---- Successful ALL!!! :) ----')\n",
    "    if is_test:\n",
    "      test_predictions = predictOutputTenDimColors(net, task_info['test'], input_char, step)\n",
    "      nets_info[task_path] = { 'predictions': test_predictions, 'input': [ sample['input'] for sample in task_info['test'] ] }\n",
    "    else:\n",
    "      fillReport(report, task_path, (success, good, bad), (test_success, test_good, test_bad))\n",
    "  return report, nets_info"
   ]
  },
  {
   "cell_type": "markdown",
   "metadata": {},
   "source": [
    "<span style=\"color:blue\">Exemple of the display of the created function</span>"
   ]
  },
  {
   "cell_type": "code",
   "execution_count": 190,
   "metadata": {},
   "outputs": [
    {
     "name": "stdout",
     "output_type": "stream",
     "text": [
      "Characteristics for (input - 10, output - 10): \n",
      "inp -> dict_keys(['black', 'blue', 'red', 'green', 'yellow', 'gray', 'magenta', 'orange', 'sky', 'brown'])\n",
      "out -> dict_keys(['black', 'blue', 'red', 'green', 'yellow', 'gray', 'magenta', 'orange', 'sky', 'brown']) \n",
      "SimpleInputOutputNet(\n",
      "  (conv1): Conv2d(10, 128, kernel_size=(3, 3), stride=(1, 1), padding=(1, 1))\n",
      "  (conv2): Conv2d(128, 10, kernel_size=(1, 1), stride=(1, 1))\n",
      ")\n",
      "--- 1 out of 5 were ok ---\n"
     ]
    },
    {
     "data": {
      "image/png": "[encoded data removed]",
      "text/plain": [
       "<Figure size 432x288 with 1 Axes>"
      ]
     },
     "metadata": {
      "needs_background": "light"
     },
     "output_type": "display_data"
    },
    {
     "data": {
      "image/png": "[encoded data removed]",
      "text/plain": [
       "<Figure size 432x2304 with 3 Axes>"
      ]
     },
     "metadata": {
      "needs_background": "light"
     },
     "output_type": "display_data"
    },
    {
     "data": {
      "image/png": "[encoded data removed]",
      "text/plain": [
       "<Figure size 432x2304 with 3 Axes>"
      ]
     },
     "metadata": {
      "needs_background": "light"
     },
     "output_type": "display_data"
    },
    {
     "data": {
      "image/png": "[encoded data removed]",
      "text/plain": [
       "<Figure size 432x2304 with 3 Axes>"
      ]
     },
     "metadata": {
      "needs_background": "light"
     },
     "output_type": "display_data"
    },
    {
     "data": {
      "image/png": "[encoded data removed]",
      "text/plain": [
       "<Figure size 432x2304 with 3 Axes>"
      ]
     },
     "metadata": {
      "needs_background": "light"
     },
     "output_type": "display_data"
    },
    {
     "data": {
      "image/png": "[encoded data removed]",
      "text/plain": [
       "<Figure size 432x2304 with 3 Axes>"
      ]
     },
     "metadata": {
      "needs_background": "light"
     },
     "output_type": "display_data"
    },
    {
     "name": "stdout",
     "output_type": "stream",
     "text": [
      "{'fails': 0,\n",
      " 'half_sucess': 1,\n",
      " 'success': 0,\n",
      " 'task_success': [],\n",
      " 'task_train_success': [],\n",
      " 'trained_success': 0}\n"
     ]
    }
   ],
   "source": [
    "just_colors = True\n",
    "input_char, output_char = caracterize.keys(), color_info.keys()\n",
    "if just_colors:\n",
    "  input_char, output_char = color_info.keys(), color_info.keys()\n",
    "print(f'Characteristics for (input - {len(input_char)}, output - {len(output_char)}): \\ninp -> {input_char}\\nout -> {output_char} ')\n",
    "report, net = runSimpleNet(\n",
    "  show_plots=True,\n",
    "  show_prints=False,\n",
    "  show_results=True,\n",
    "  model= SimpleInputOutputNet,\n",
    "  optim_args={'lr':0.2},\n",
    "  task_paths= ['00d62c1b.json'], \n",
    "  in_out_char={ 'input_char': input_char, 'output_char': output_char },\n",
    "  init_params={ 'in_out_ch': 128, 'in_ker':3, 'in_ch': len(input_char), 'out_ch': len(output_char) } \n",
    ")\n",
    "pp(report)"
   ]
  },
  {
   "cell_type": "code",
   "execution_count": 96,
   "metadata": {},
   "outputs": [
    {
     "name": "stdout",
     "output_type": "stream",
     "text": [
      "Characteristics for (input - 10, output - 10): \n",
      "inp -> dict_keys(['black', 'blue', 'red', 'green', 'yellow', 'gray', 'magenta', 'orange', 'sky', 'brown'])\n",
      "out -> dict_keys(['black', 'blue', 'red', 'green', 'yellow', 'gray', 'magenta', 'orange', 'sky', 'brown']) \n",
      "{'fails': 26,\n",
      " 'half_sucess': 6,\n",
      " 'success': 1,\n",
      " 'task_success': ['0ca9ddb6.json'],\n",
      " 'task_train_success': ['0d3d703e.json'],\n",
      " 'trained_success': 2}\n"
     ]
    }
   ],
   "source": [
    "input_char, output_char = caracterize.keys(), color_info.keys()\n",
    "if just_colors:\n",
    "  input_char, output_char = color_info.keys(), color_info.keys()\n",
    "print(f'Characteristics for (input - {len(input_char)}, output - {len(output_char)}): \\ninp -> {input_char}\\nout -> {output_char} ')\n",
    "report, net = runSimpleNet( show_plots=False, show_prints=False, show_results=False, model= SimpleInputOutputNet,\n",
    "  optim_args={'lr':0.2},\n",
    "  task_paths= training_tasks[:50],#['00d62c1b.json'], \n",
    "  in_out_char={ 'input_char': input_char, 'output_char': output_char },\n",
    "  init_params={ 'in_out_ch': 128, 'in_ker':3, 'in_ch': len(input_char), 'out_ch': len(output_char) } \n",
    ")\n",
    "pp(report)"
   ]
  },
  {
   "cell_type": "code",
   "execution_count": 153,
   "metadata": {},
   "outputs": [
    {
     "name": "stdout",
     "output_type": "stream",
     "text": [
      "Managed to reproduce the training correctly\n"
     ]
    },
    {
     "data": {
      "text/plain": [
       "<Figure size 432x288 with 0 Axes>"
      ]
     },
     "metadata": {},
     "output_type": "display_data"
    },
    {
     "data": {
      "image/png": "[encoded data removed]",
      "text/plain": [
       "<Figure size 1000x400 with 10 Axes>"
      ]
     },
     "metadata": {
      "needs_background": "light"
     },
     "output_type": "display_data"
    },
    {
     "name": "stdout",
     "output_type": "stream",
     "text": [
      "Now the succesful ones\n"
     ]
    },
    {
     "data": {
      "text/plain": [
       "<Figure size 432x288 with 0 Axes>"
      ]
     },
     "metadata": {},
     "output_type": "display_data"
    },
    {
     "data": {
      "image/png": "[encoded data removed]",
      "text/plain": [
       "<Figure size 800x400 with 8 Axes>"
      ]
     },
     "metadata": {
      "needs_background": "light"
     },
     "output_type": "display_data"
    }
   ],
   "source": [
    "print('Managed to reproduce the training correctly')\n",
    "for task_path in report['task_train_success']:\n",
    "  dp.plot_task(hp.getGeneralInfoFromTask(f'{training_path}/{task_path}'), 1, task_path)\n",
    "print('Now the succesful ones')\n",
    "for task_path in report['task_success']:\n",
    "  dp.plot_task(hp.getGeneralInfoFromTask(f'{training_path}/{task_path}'), 1, task_path)"
   ]
  },
  {
   "cell_type": "markdown",
   "metadata": {},
   "source": [
    "### 🎆 It's Possible, and it works! 🎆\n",
    "\n",
    "> Now that we've proved it possible, we will try other architectures, and deepen into our atomic functions ideas\n",
    "\n",
    "*Note: the final model, is simply the architecture, in this proposal, the model can't be simply grabbed and applyied to any task, each task has a model, if we tried to put a model for all the tasks, the rate of success was ZERO*\n",
    "\n",
    "**While reading on how to do it and understand if it was possible, we found [a very interesting proposal on kaggle that proposes a \"Neural Cellular Automata\"](https://www.kaggle.com/teddykoker/training-cellular-automata-part-ii-learning-tasks), one that we're going to take as \"inspiration\" since the proposal is very interesting and ad-hoc to our ideas.**\n",
    "\n",
    "<span style='color:blue'>**Exemple where the model is trying to be generalized (1 success) against and one that is not generalizing (45 successes)** (exemple using all training tasks):</span>"
   ]
  },
  {
   "cell_type": "code",
   "execution_count": 156,
   "metadata": {},
   "outputs": [
    {
     "name": "stdout",
     "output_type": "stream",
     "text": [
      "Characteristics for (input - 10, output - 10): \n",
      "inp -> dict_keys(['black', 'blue', 'red', 'green', 'yellow', 'gray', 'magenta', 'orange', 'sky', 'brown'])\n",
      "out -> dict_keys(['black', 'blue', 'red', 'green', 'yellow', 'gray', 'magenta', 'orange', 'sky', 'brown']) \n",
      "SimpleInputOutputNet(\n",
      "  (conv1): Conv2d(10, 128, kernel_size=(3, 3), stride=(1, 1), padding=(1, 1))\n",
      "  (conv2): Conv2d(128, 10, kernel_size=(1, 1), stride=(1, 1))\n",
      ")\n",
      "{'fails': 254,\n",
      " 'half_sucess': 7,\n",
      " 'success': 1,\n",
      " 'task_success': ['b1948b0a.json'],\n",
      " 'task_train_success': [],\n",
      " 'trained_success': 1}\n"
     ]
    }
   ],
   "source": [
    "input_char, output_char = color_info.keys(), color_info.keys()\n",
    "print(f'Characteristics for (input - {len(input_char)}, output - {len(output_char)}): \\ninp -> {input_char}\\nout -> {output_char} ')\n",
    "report, net = runSimpleNet( show_plots=False, show_prints=False, show_results=False, model= SimpleInputOutputNet,\n",
    "  grabbing_net=True,\n",
    "  optim_args={'lr':0.2},\n",
    "  task_paths= training_tasks, #['00d62c1b.json'], \n",
    "  in_out_char={ 'input_char': input_char, 'output_char': output_char },\n",
    "  init_params={ 'in_out_ch': 128, 'in_ker':3, 'in_ch': len(input_char), 'out_ch': len(output_char) } \n",
    ")\n",
    "pp(report)"
   ]
  },
  {
   "cell_type": "code",
   "execution_count": 157,
   "metadata": {},
   "outputs": [
    {
     "name": "stdout",
     "output_type": "stream",
     "text": [
      "Characteristics for (input - 10, output - 10): \n",
      "inp -> dict_keys(['black', 'blue', 'red', 'green', 'yellow', 'gray', 'magenta', 'orange', 'sky', 'brown'])\n",
      "out -> dict_keys(['black', 'blue', 'red', 'green', 'yellow', 'gray', 'magenta', 'orange', 'sky', 'brown']) \n",
      "SimpleInputOutputNet(\n",
      "  (conv1): Conv2d(10, 128, kernel_size=(3, 3), stride=(1, 1), padding=(1, 1))\n",
      "  (conv2): Conv2d(128, 10, kernel_size=(1, 1), stride=(1, 1))\n",
      ")\n",
      "{'fails': 171,\n",
      " 'half_sucess': 46,\n",
      " 'success': 14,\n",
      " 'task_success': ['25d8a9c8.json',\n",
      "                  '3618c87e.json',\n",
      "                  '4258a5f9.json',\n",
      "                  '67385a82.json',\n",
      "                  '6f8cd79b.json',\n",
      "                  '913fb3ed.json',\n",
      "                  'a699fb00.json',\n",
      "                  'a79310a0.json',\n",
      "                  'b1948b0a.json',\n",
      "                  'b60334d2.json',\n",
      "                  'c8f0f002.json',\n",
      "                  'ce22a75a.json',\n",
      "                  'd364b489.json',\n",
      "                  'd90796e8.json'],\n",
      " 'task_train_success': ['0d3d703e.json',\n",
      "                        '25ff71a9.json',\n",
      "                        '32597951.json',\n",
      "                        '36fdfd69.json',\n",
      "                        '3aa6fb7a.json',\n",
      "                        '3c9b0459.json',\n",
      "                        '42a50994.json',\n",
      "                        '4347f46a.json',\n",
      "                        '50cb2852.json',\n",
      "                        '54d9e175.json',\n",
      "                        '5582e5ca.json',\n",
      "                        '6150a2bd.json',\n",
      "                        '67a423a3.json',\n",
      "                        '74dd1130.json',\n",
      "                        '7e0986d6.json',\n",
      "                        '7f4411dc.json',\n",
      "                        '85c4e7cd.json',\n",
      "                        '9565186b.json',\n",
      "                        'a85d4709.json',\n",
      "                        'aabf363d.json',\n",
      "                        'aedd82e4.json',\n",
      "                        'ba97ae07.json',\n",
      "                        'bb43febb.json',\n",
      "                        'bda2d7a6.json',\n",
      "                        'd037b0a7.json',\n",
      "                        'd23f8c26.json',\n",
      "                        'd511f180.json',\n",
      "                        'dc1df850.json',\n",
      "                        'e26a3af2.json',\n",
      "                        'ed36ccf7.json',\n",
      "                        'f76d97a5.json'],\n",
      " 'trained_success': 45}\n"
     ]
    }
   ],
   "source": [
    "input_char, output_char = color_info.keys(), color_info.keys()\n",
    "print(f'Characteristics for (input - {len(input_char)}, output - {len(output_char)}): \\ninp -> {input_char}\\nout -> {output_char} ')\n",
    "report, net = runSimpleNet( show_plots=False, show_prints=False, show_results=False, model= SimpleInputOutputNet,\n",
    "  grabbing_net=False,\n",
    "  optim_args={'lr':0.2},\n",
    "  task_paths= training_tasks,  \n",
    "  in_out_char={ 'input_char': input_char, 'output_char': output_char },\n",
    "  init_params={ 'in_out_ch': 128, 'in_ker':3, 'in_ch': len(input_char), 'out_ch': len(output_char) } \n",
    ")\n",
    "pp(report)"
   ]
  },
  {
   "cell_type": "markdown",
   "metadata": {},
   "source": [
    "<span style='color:blue'>Also, the choice of the **optimizer parameters** has huge implications in the results (will limit the # of tasks to 50)</span>"
   ]
  },
  {
   "cell_type": "code",
   "execution_count": 168,
   "metadata": {},
   "outputs": [
    {
     "name": "stdout",
     "output_type": "stream",
     "text": [
      "Characteristics for (input - 10, output - 10): \n",
      "inp -> dict_keys(['black', 'blue', 'red', 'green', 'yellow', 'gray', 'magenta', 'orange', 'sky', 'brown'])\n",
      "out -> dict_keys(['black', 'blue', 'red', 'green', 'yellow', 'gray', 'magenta', 'orange', 'sky', 'brown']) \n"
     ]
    }
   ],
   "source": [
    "input_char, output_char = color_info.keys(), color_info.keys()\n",
    "print(f'Characteristics for (input - {len(input_char)}, output - {len(output_char)}): \\ninp -> {input_char}\\nout -> {output_char} ')\n",
    "reports, learning_rates = [], [0.001, 0.01, 0.05, 0.1, 0.15, 0.2, 0.3, 0.4]\n",
    "for learning_rate in learning_rates:\n",
    "  report, net = runSimpleNet( show_plots=False, show_prints=False, show_results=False, model= SimpleInputOutputNet,\n",
    "    optim_args={'lr': learning_rate},\n",
    "    task_paths= training_tasks[:50], \n",
    "    in_out_char={ 'input_char': input_char, 'output_char': output_char },\n",
    "    init_params={ 'in_out_ch': 128, 'in_ker':3, 'in_ch': len(input_char), 'out_ch': len(output_char) } \n",
    "  )\n",
    "  reports.append(report)"
   ]
  },
  {
   "cell_type": "code",
   "execution_count": 178,
   "metadata": {},
   "outputs": [
    {
     "data": {
      "text/plain": [
       "<matplotlib.axes._subplots.AxesSubplot at 0x7efebfc12dd8>"
      ]
     },
     "execution_count": 178,
     "metadata": {},
     "output_type": "execute_result"
    },
    {
     "data": {
      "image/png": "[encoded data removed]",
      "text/plain": [
       "<Figure size 432x288 with 1 Axes>"
      ]
     },
     "metadata": {
      "needs_background": "light"
     },
     "output_type": "display_data"
    }
   ],
   "source": [
    "sns.lineplot(learning_rates, [ rep['success'] for rep in reports ], label='success')\n",
    "sns.lineplot(learning_rates, [ rep['trained_success'] for rep in reports ], label='trained_success')\n",
    "sns.lineplot(learning_rates, [ rep['half_sucess'] for rep in reports ], label='half_sucess')"
   ]
  },
  {
   "cell_type": "markdown",
   "metadata": {},
   "source": [
    "**It seems that the best learning rate, in this case is 0.5**\n",
    "\n",
    "For sake of simplicity we won't study the other paramaters (betas, epsilon, weight_decay and amsgrad)\n",
    "\n",
    "<span style='color:blue'>Now, what would happen if we used the already proposed characteristics?</span>"
   ]
  },
  {
   "cell_type": "code",
   "execution_count": 183,
   "metadata": {},
   "outputs": [
    {
     "name": "stdout",
     "output_type": "stream",
     "text": [
      "{'fails': 23,\n",
      " 'half_sucess': 9,\n",
      " 'success': 1,\n",
      " 'task_success': ['0ca9ddb6.json'],\n",
      " 'task_train_success': ['0d3d703e.json'],\n",
      " 'trained_success': 2}\n",
      "{'fails': 16,\n",
      " 'half_sucess': 12,\n",
      " 'success': 0,\n",
      " 'task_success': [],\n",
      " 'task_train_success': ['025d127b.json',\n",
      "                        '0ca9ddb6.json',\n",
      "                        '0d3d703e.json',\n",
      "                        '11852cab.json',\n",
      "                        '150deff5.json',\n",
      "                        '1e0a9b12.json'],\n",
      " 'trained_success': 6}\n"
     ]
    }
   ],
   "source": [
    "# --- RUN For Simple Convolutional Layer --- Caracteristics as input and output just colors output\n",
    "output_char = color_info.keys()\n",
    "for input_char in [color_info.keys(), caracterize.keys()]:\n",
    "  report, net = runSimpleNet( show_plots=False, show_prints=False, show_results=False, model= SimpleInputOutputNet,\n",
    "    optim_args={'lr': 0.05},\n",
    "    task_paths= training_tasks[:50], #['00d62c1b.json'],\n",
    "    in_out_char={ 'input_char': input_char, 'output_char': output_char },\n",
    "    init_params={ 'in_out_ch': 128, 'in_ker':3, 'in_ch': len(input_char), 'out_ch': len(output_char) } \n",
    "  )\n",
    "  pp(report)"
   ]
  },
  {
   "cell_type": "markdown",
   "metadata": {},
   "source": [
    "Counterintuivetelly to what we thought, we obtaned no succeses, BUT, we obtained more training successes, more \"half successes\" and less fails making us think that this could be the way to go but some tunning should be done. Also, it could mean, that it's harder for the model to \"generalize\" since no task was completed.\n",
    "\n",
    "+ Another characteristic that empowers our approach is that the fact that we use CNN with a kernel of 3, already takes into account the neighbors, this could affect the \"characteristics approach\" since it  uses neighbors, thing that is already taken. This could intervene in a successfull training with neighbors features\n",
    "\n",
    "Maybe the incremented input channels had something to do, if we add some, we can see though, that it's not the issue."
   ]
  },
  {
   "cell_type": "code",
   "execution_count": 24,
   "metadata": {},
   "outputs": [
    {
     "name": "stdout",
     "output_type": "stream",
     "text": [
      "{'fails': 16,\n",
      " 'half_sucess': 12,\n",
      " 'success': 0,\n",
      " 'task_success': [],\n",
      " 'task_train_success': ['025d127b.json',\n",
      "                        '0ca9ddb6.json',\n",
      "                        '0d3d703e.json',\n",
      "                        '11852cab.json',\n",
      "                        '150deff5.json',\n",
      "                        '1e0a9b12.json'],\n",
      " 'trained_success': 6}\n"
     ]
    }
   ],
   "source": [
    "output_char, input_char = color_info.keys(), caracterize.keys()\n",
    "report, net = runSimpleNet( show_plots=False, show_prints=False, show_results=False, model= SimpleInputOutputNet,\n",
    "    optim_args={'lr': 0.05},\n",
    "    task_paths= training_tasks[:50], #['00d62c1b.json'],\n",
    "    in_out_char={ 'input_char': input_char, 'output_char': output_char },\n",
    "    init_params={ 'in_out_ch': 256, 'in_ker':3, 'in_ch': len(input_char), 'out_ch': len(output_char) } \n",
    "  )\n",
    "pp(report)"
   ]
  },
  {
   "cell_type": "markdown",
   "metadata": {},
   "source": [
    "<span style='color:blue'>A new architecture is proposed: **\"A incrementer of the tasks\"**</span>\n",
    "\n",
    "+ The idea is simply to add more layers, so that the \"movements\" to do could be learnt\n",
    "\n",
    "+ The epochs, for bot of the arquitectures proposed, play the role of \"trial and error\" for a baby learning for example."
   ]
  },
  {
   "cell_type": "code",
   "execution_count": 46,
   "metadata": {},
   "outputs": [],
   "source": [
    "class SimpleCellularAutomataNet(nn.Module):\n",
    "  def __init__(self, init_dict):\n",
    "    super(SimpleCellularAutomataNet, self).__init__()\n",
    "    \"\"\"input_dict.keys() == ['in_ch', 'in_out_ch', 'in_ker', 'out_ch']\"\"\"\n",
    "    in_ch, in_out_ch, in_ker = init_dict['in_ch'], init_dict['in_out_ch'], init_dict['in_ker']\n",
    "    out_ch = init_dict['out_ch']\n",
    "    self.conv1 = nn.Conv2d(in_ch, in_out_ch, in_ker, padding=1)\n",
    "    self.conv2 = nn.Conv2d(in_out_ch, out_ch, kernel_size=1)\n",
    "  def forward(self, x, learn_steps=1):\n",
    "    for step in range(learn_steps):\n",
    "      x = F.relu(self.conv1(x))\n",
    "      x = self.conv2(x)\n",
    "    return x\n",
    "  def is_automata(self): return True"
   ]
  },
  {
   "cell_type": "markdown",
   "metadata": {},
   "source": [
    "By proposing new sizes of the net (more layers, [simple, 4 relayering, 8 relayering]) we notice that increasing the layers is not a solution, besides, trying to make other combinations like more layers but less intermedairy channles (64), it didn't improved, instead, it worstened.\n",
    "\n",
    "By decreasing the epochs, as seen in the plots, 100 seemed a lot of epochs since it specialized a lot which would mean less ability for generalization. And we can see that efectivelly, 50 epochs does better than 100"
   ]
  },
  {
   "cell_type": "code",
   "execution_count": 64,
   "metadata": {},
   "outputs": [
    {
     "name": "stdout",
     "output_type": "stream",
     "text": [
      "{'fails': 15,\n",
      " 'half_sucess': 4,\n",
      " 'predictions': {},\n",
      " 'success': 1,\n",
      " 'task_success': ['0ca9ddb6.json'],\n",
      " 'task_train_success': ['0d3d703e.json'],\n",
      " 'trained_success': 2}\n",
      "{'fails': 9,\n",
      " 'half_sucess': 3,\n",
      " 'predictions': {},\n",
      " 'success': 0,\n",
      " 'task_success': [],\n",
      " 'task_train_success': ['05269061.json',\n",
      "                        '08ed6ac7.json',\n",
      "                        '09629e4f.json',\n",
      "                        '0962bcdd.json',\n",
      "                        '0ca9ddb6.json',\n",
      "                        '0d3d703e.json',\n",
      "                        '0dfd9992.json',\n",
      "                        '11852cab.json',\n",
      "                        '150deff5.json'],\n",
      " 'trained_success': 9}\n",
      "{'fails': 12,\n",
      " 'half_sucess': 0,\n",
      " 'predictions': {},\n",
      " 'success': 0,\n",
      " 'task_success': [],\n",
      " 'task_train_success': ['00d62c1b.json',\n",
      "                        '05269061.json',\n",
      "                        '09629e4f.json',\n",
      "                        '0962bcdd.json',\n",
      "                        '0ca9ddb6.json',\n",
      "                        '0d3d703e.json',\n",
      "                        '0dfd9992.json',\n",
      "                        '11852cab.json',\n",
      "                        '150deff5.json'],\n",
      " 'trained_success': 9}\n"
     ]
    }
   ],
   "source": [
    "output_char, input_char = color_info.keys(), color_info.keys()\n",
    "for steps in [1, 4, 8]:\n",
    "  report, net = runSimpleNet( show_plots=False, show_prints=False, show_results=False, model=SimpleCellularAutomataNet,\n",
    "      steps=steps,\n",
    "      epochs=50,\n",
    "      train_outToOut=True,\n",
    "      optim_args={'lr': 0.05},\n",
    "      task_paths= training_tasks[:30], # ['00d62c1b.json'], # \n",
    "      in_out_char={ 'input_char': input_char, 'output_char': output_char },\n",
    "      init_params={ 'in_out_ch': 128, 'in_ker':3, 'in_ch': len(input_char), 'out_ch': len(output_char) } \n",
    "    )\n",
    "  pp(report)"
   ]
  },
  {
   "cell_type": "code",
   "execution_count": 65,
   "metadata": {},
   "outputs": [
    {
     "name": "stdout",
     "output_type": "stream",
     "text": [
      "{'fails': 15,\n",
      " 'half_sucess': 4,\n",
      " 'predictions': {},\n",
      " 'success': 1,\n",
      " 'task_success': ['0ca9ddb6.json'],\n",
      " 'task_train_success': ['0d3d703e.json'],\n",
      " 'trained_success': 2}\n",
      "{'fails': 7,\n",
      " 'half_sucess': 5,\n",
      " 'predictions': {},\n",
      " 'success': 0,\n",
      " 'task_success': [],\n",
      " 'task_train_success': ['05269061.json',\n",
      "                        '08ed6ac7.json',\n",
      "                        '09629e4f.json',\n",
      "                        '0962bcdd.json',\n",
      "                        '0ca9ddb6.json',\n",
      "                        '0d3d703e.json',\n",
      "                        '0dfd9992.json',\n",
      "                        '11852cab.json',\n",
      "                        '1b60fb0c.json'],\n",
      " 'trained_success': 9}\n",
      "{'fails': 9,\n",
      " 'half_sucess': 4,\n",
      " 'predictions': {},\n",
      " 'success': 0,\n",
      " 'task_success': [],\n",
      " 'task_train_success': ['05269061.json',\n",
      "                        '09629e4f.json',\n",
      "                        '0ca9ddb6.json',\n",
      "                        '0d3d703e.json',\n",
      "                        '0dfd9992.json',\n",
      "                        '11852cab.json',\n",
      "                        '150deff5.json',\n",
      "                        '1caeab9d.json'],\n",
      " 'trained_success': 8}\n"
     ]
    }
   ],
   "source": [
    "output_char, input_char = color_info.keys(), color_info.keys()\n",
    "for steps in [1, 4, 8]:\n",
    "  report, net = runSimpleNet( show_plots=False, show_prints=False, show_results=False, model=SimpleCellularAutomataNet,\n",
    "      steps=steps,\n",
    "      epochs=100,\n",
    "      train_outToOut=True,\n",
    "      optim_args={'lr': 0.05},\n",
    "      task_paths= training_tasks[:30], # ['00d62c1b.json'], # \n",
    "      in_out_char={ 'input_char': input_char, 'output_char': output_char },\n",
    "      init_params={ 'in_out_ch': 128, 'in_ker':3, 'in_ch': len(input_char), 'out_ch': len(output_char) } \n",
    "    )\n",
    "  pp(report)"
   ]
  },
  {
   "cell_type": "code",
   "execution_count": 66,
   "metadata": {},
   "outputs": [
    {
     "name": "stdout",
     "output_type": "stream",
     "text": [
      "{'fails': 15,\n",
      " 'half_sucess': 4,\n",
      " 'predictions': {},\n",
      " 'success': 1,\n",
      " 'task_success': ['0ca9ddb6.json'],\n",
      " 'task_train_success': ['0d3d703e.json'],\n",
      " 'trained_success': 2}\n",
      "{'fails': 10,\n",
      " 'half_sucess': 4,\n",
      " 'predictions': {},\n",
      " 'success': 1,\n",
      " 'task_success': ['0ca9ddb6.json'],\n",
      " 'task_train_success': ['05269061.json',\n",
      "                        '09629e4f.json',\n",
      "                        '0962bcdd.json',\n",
      "                        '0d3d703e.json',\n",
      "                        '0dfd9992.json',\n",
      "                        '11852cab.json'],\n",
      " 'trained_success': 7}\n",
      "{'fails': 11,\n",
      " 'half_sucess': 2,\n",
      " 'predictions': {},\n",
      " 'success': 0,\n",
      " 'task_success': [],\n",
      " 'task_train_success': ['05269061.json',\n",
      "                        '09629e4f.json',\n",
      "                        '0962bcdd.json',\n",
      "                        '0ca9ddb6.json',\n",
      "                        '0d3d703e.json',\n",
      "                        '0dfd9992.json',\n",
      "                        '11852cab.json',\n",
      "                        '150deff5.json'],\n",
      " 'trained_success': 8}\n"
     ]
    }
   ],
   "source": [
    "output_char, input_char = color_info.keys(), color_info.keys()\n",
    "for steps in [1, 4, 8]:\n",
    "  report, net = runSimpleNet( show_plots=False, show_prints=False, show_results=False, model=SimpleCellularAutomataNet,\n",
    "      steps=steps,\n",
    "      epochs=50,\n",
    "      train_outToOut=True,\n",
    "      optim_args={'lr': 0.05},\n",
    "      task_paths= training_tasks[:30], # ['00d62c1b.json'], # \n",
    "      in_out_char={ 'input_char': input_char, 'output_char': output_char },\n",
    "      init_params={ 'in_out_ch': 64, 'in_ker':3, 'in_ch': len(input_char), 'out_ch': len(output_char) } \n",
    "    )\n",
    "  pp(report)"
   ]
  },
  {
   "cell_type": "code",
   "execution_count": 67,
   "metadata": {},
   "outputs": [
    {
     "name": "stdout",
     "output_type": "stream",
     "text": [
      "{'fails': 13,\n",
      " 'half_sucess': 6,\n",
      " 'predictions': {},\n",
      " 'success': 0,\n",
      " 'task_success': [],\n",
      " 'task_train_success': ['0ca9ddb6.json', '0d3d703e.json'],\n",
      " 'trained_success': 2}\n",
      "{'fails': 11,\n",
      " 'half_sucess': 2,\n",
      " 'predictions': {},\n",
      " 'success': 0,\n",
      " 'task_success': [],\n",
      " 'task_train_success': ['05269061.json',\n",
      "                        '09629e4f.json',\n",
      "                        '0ca9ddb6.json',\n",
      "                        '0d3d703e.json',\n",
      "                        '0dfd9992.json',\n",
      "                        '11852cab.json',\n",
      "                        '150deff5.json',\n",
      "                        '1caeab9d.json'],\n",
      " 'trained_success': 8}\n",
      "{'fails': 11,\n",
      " 'half_sucess': 3,\n",
      " 'predictions': {},\n",
      " 'success': 0,\n",
      " 'task_success': [],\n",
      " 'task_train_success': ['05269061.json',\n",
      "                        '09629e4f.json',\n",
      "                        '0ca9ddb6.json',\n",
      "                        '0d3d703e.json',\n",
      "                        '0dfd9992.json',\n",
      "                        '11852cab.json',\n",
      "                        '150deff5.json'],\n",
      " 'trained_success': 7}\n"
     ]
    }
   ],
   "source": [
    "output_char, input_char = color_info.keys(), color_info.keys()\n",
    "for steps in [1, 4, 8]:\n",
    "  report, net = runSimpleNet( show_plots=False, show_prints=False, show_results=False, model=SimpleCellularAutomataNet,\n",
    "      steps=steps,\n",
    "      epochs=50,\n",
    "      train_outToOut=False,\n",
    "      optim_args={'lr': 0.05},\n",
    "      task_paths= training_tasks[:30], # ['00d62c1b.json'], # \n",
    "      in_out_char={ 'input_char': input_char, 'output_char': output_char },\n",
    "      init_params={ 'in_out_ch': 128, 'in_ker':3, 'in_ch': len(input_char), 'out_ch': len(output_char) } \n",
    "    )\n",
    "  pp(report)"
   ]
  },
  {
   "cell_type": "markdown",
   "metadata": {},
   "source": [
    "## The best architecture we found\n",
    "\n",
    "```\n",
    "SimpleInputOutputNet(\n",
    "  (conv1): Conv2d(10, 128, kernel_size=(3, 3), stride=(1, 1), padding=(1, 1))\n",
    "  (conv2): Conv2d(128, 10, kernel_size=(1, 1), stride=(1, 1))\n",
    ")\n",
    "```\n",
    "\n",
    "It's the starting one, the simple where simply we have a  two convolutional layers with the assumption of neighboring characteristics understanding (Conv + kernel 3x3 +  stride 1) and tasks understanding (channels: 128)\n",
    "\n",
    "We run it for all the training inputs and it manages to solve 17 of the tasks. Remeber that it only solves the inputs that have same shapes in input than output."
   ]
  },
  {
   "cell_type": "code",
   "execution_count": 186,
   "metadata": {},
   "outputs": [
    {
     "name": "stdout",
     "output_type": "stream",
     "text": [
      "{'fails': 170,\n",
      " 'half_sucess': 47,\n",
      " 'success': 17,\n",
      " 'task_success': ['0ca9ddb6.json',\n",
      "                  '32597951.json',\n",
      "                  '3618c87e.json',\n",
      "                  '4258a5f9.json',\n",
      "                  '54d9e175.json',\n",
      "                  '67385a82.json',\n",
      "                  '6f8cd79b.json',\n",
      "                  '913fb3ed.json',\n",
      "                  '95990924.json',\n",
      "                  'a699fb00.json',\n",
      "                  'b1948b0a.json',\n",
      "                  'b6afb2da.json',\n",
      "                  'c8f0f002.json',\n",
      "                  'ce22a75a.json',\n",
      "                  'd037b0a7.json',\n",
      "                  'd364b489.json',\n",
      "                  'd90796e8.json'],\n",
      " 'task_train_success': ['0d3d703e.json',\n",
      "                        '25d8a9c8.json',\n",
      "                        '36fdfd69.json',\n",
      "                        '3aa6fb7a.json',\n",
      "                        '3c9b0459.json',\n",
      "                        '4347f46a.json',\n",
      "                        '50cb2852.json',\n",
      "                        '5582e5ca.json',\n",
      "                        '6150a2bd.json',\n",
      "                        '67a423a3.json',\n",
      "                        '74dd1130.json',\n",
      "                        '7e0986d6.json',\n",
      "                        '7f4411dc.json',\n",
      "                        '91714a58.json',\n",
      "                        '9565186b.json',\n",
      "                        'a79310a0.json',\n",
      "                        'a85d4709.json',\n",
      "                        'aabf363d.json',\n",
      "                        'aedd82e4.json',\n",
      "                        'ba97ae07.json',\n",
      "                        'bb43febb.json',\n",
      "                        'bda2d7a6.json',\n",
      "                        'd23f8c26.json',\n",
      "                        'd511f180.json',\n",
      "                        'dc1df850.json',\n",
      "                        'e26a3af2.json',\n",
      "                        'ed36ccf7.json',\n",
      "                        'f76d97a5.json'],\n",
      " 'trained_success': 45}\n"
     ]
    }
   ],
   "source": [
    "output_char, input_char = color_info.keys(), color_info.keys()\n",
    "report, net = runSimpleNet( show_plots=False, show_prints=False, show_results=False, model=SimpleCellularAutomataNet,\n",
    "    steps=1,\n",
    "    epochs=50,\n",
    "    train_outToOut=True,\n",
    "    optim_args={'lr': 0.05},\n",
    "    task_paths= training_tasks, # ['00d62c1b.json'], # \n",
    "    in_out_char={ 'input_char': input_char, 'output_char': output_char },\n",
    "    init_params={ 'in_out_ch': 128, 'in_ker':3, 'in_ch': len(input_char), 'out_ch': len(output_char) } \n",
    "  )\n",
    "pp(report)"
   ]
  },
  {
   "cell_type": "code",
   "execution_count": 185,
   "metadata": {},
   "outputs": [],
   "source": [
    "import pandas as pd"
   ]
  },
  {
   "cell_type": "code",
   "execution_count": 224,
   "metadata": {},
   "outputs": [
    {
     "data": {
      "text/html": [
       "<div>\n",
       "<style scoped>\n",
       "    .dataframe tbody tr th:only-of-type {\n",
       "        vertical-align: middle;\n",
       "    }\n",
       "\n",
       "    .dataframe tbody tr th {\n",
       "        vertical-align: top;\n",
       "    }\n",
       "\n",
       "    .dataframe thead th {\n",
       "        text-align: right;\n",
       "    }\n",
       "</style>\n",
       "<table border=\"1\" class=\"dataframe\">\n",
       "  <thead>\n",
       "    <tr style=\"text-align: right;\">\n",
       "      <th></th>\n",
       "      <th>output</th>\n",
       "    </tr>\n",
       "    <tr>\n",
       "      <th>output_id</th>\n",
       "      <th></th>\n",
       "    </tr>\n",
       "  </thead>\n",
       "  <tbody>\n",
       "    <tr>\n",
       "      <th>00576224_0</th>\n",
       "      <td>|32|78| |32|78| |00|00|</td>\n",
       "    </tr>\n",
       "    <tr>\n",
       "      <th>009d5c81_0</th>\n",
       "      <td>|00000000000000|00000888888888|00000800080808|...</td>\n",
       "    </tr>\n",
       "    <tr>\n",
       "      <th>00dbd492_0</th>\n",
       "      <td>|00000000000222220000|02222222220200020000|020...</td>\n",
       "    </tr>\n",
       "    <tr>\n",
       "      <th>03560426_0</th>\n",
       "      <td>|0000000000|0000000000|0000000000|0000000000|0...</td>\n",
       "    </tr>\n",
       "    <tr>\n",
       "      <th>05a7bcf2_0</th>\n",
       "      <td>|000000000020000000080000000000|00000000002220...</td>\n",
       "    </tr>\n",
       "  </tbody>\n",
       "</table>\n",
       "</div>"
      ],
      "text/plain": [
       "                                                       output\n",
       "output_id                                                    \n",
       "00576224_0                           |32|78| |32|78| |00|00| \n",
       "009d5c81_0  |00000000000000|00000888888888|00000800080808|...\n",
       "00dbd492_0  |00000000000222220000|02222222220200020000|020...\n",
       "03560426_0  |0000000000|0000000000|0000000000|0000000000|0...\n",
       "05a7bcf2_0  |000000000020000000080000000000|00000000002220..."
      ]
     },
     "metadata": {},
     "output_type": "display_data"
    }
   ],
   "source": [
    "submission = pd.read_csv('./data/sample_submission.csv', index_col='output_id')\n",
    "display(submission.head())\n",
    "#for row in submission.to_numpy():\n",
    "#  print(len(row[0].split(' ')), row[0].split(' '))"
   ]
  },
  {
   "cell_type": "code",
   "execution_count": 205,
   "metadata": {},
   "outputs": [
    {
     "name": "stdout",
     "output_type": "stream",
     "text": [
      "{'fails': 0,\n",
      " 'half_sucess': 0,\n",
      " 'success': 0,\n",
      " 'task_success': [],\n",
      " 'task_train_success': [],\n",
      " 'trained_success': 0}\n"
     ]
    }
   ],
   "source": [
    "output_char, input_char = color_info.keys(), color_info.keys()\n",
    "report, nets_info = runSimpleNet( show_plots=False, show_prints=False, show_results=False, model=SimpleCellularAutomataNet,\n",
    "    steps=1,\n",
    "    epochs=50,\n",
    "    train_outToOut=True,\n",
    "    optim_args={'lr': 0.05},\n",
    "    task_paths= test_tasks, \n",
    "    in_out_char={ 'input_char': input_char, 'output_char': output_char },\n",
    "    init_params={ 'in_out_ch': 128, 'in_ker':3, 'in_ch': len(input_char), 'out_ch': len(output_char) } ,\n",
    "    is_test=True\n",
    "  )\n",
    "pp(report)"
   ]
  },
  {
   "cell_type": "code",
   "execution_count": 213,
   "metadata": {},
   "outputs": [],
   "source": [
    "def getSubmissionDF(nets_info, submission, add_input=True):\n",
    "  submission_dict = {}\n",
    "  for task_name in test_tasks:\n",
    "    if not task_name in submission_dict: submission_dict[task_name] = { 'indexes': [] }\n",
    "    submission_dict[task_name]['indexes'] += [int(i)]\n",
    "  \n",
    "  for task_name, info in submission_dict.items():\n",
    "    if not task_name in nets_info: continue\n",
    "    net_info = nets_info[task_name]\n",
    "    predictions, inputs = net_info['predictions'], net_info['input']\n",
    "    sub_like_pred, sub_like_inp = '', ''\n",
    "    submission_dict[task_name]['strings'], submission_dict[task_name]['inputs'] = [], []\n",
    "    for index, inp in zip(info['indexes'], inputs):\n",
    "      sub_like_inp += ' |' if sub_like_inp != '' else '|'\n",
    "      for row in inp:\n",
    "        sub_like_inp += ''.join([ str(v) for v in row]) + '|'\n",
    "      submission_dict[task_name]['inputs'] += [sub_like_inp]\n",
    "    for index, prediction in zip(info['indexes'], predictions):\n",
    "      sub_like_pred += ' |' if sub_like_pred != '' else '|'\n",
    "      for row in prediction:\n",
    "        sub_like_pred += ''.join([ str(v) for v in row]) + '|'\n",
    "      submission_dict[task_name]['strings'] += [sub_like_pred]\n",
    "      \n",
    "\n",
    "  to_submit = {}\n",
    "  for task_name, info in submission_dict.items():\n",
    "    task, _ = task_name.split('.')\n",
    "    for index in info['indexes']:\n",
    "      output_id = f'{task}_{index}'\n",
    "      if not 'strings' in info: \n",
    "        to_submit[output_id] = submission.loc[output_id].output\n",
    "      else :\n",
    "        if add_input: to_submit[output_id] = info['inputs'][index] + ' ' + info['strings'][index]\n",
    "        else: to_submit[output_id] = info['strings'][index]\n",
    "        \n",
    "  sub_df = pd.DataFrame(to_submit.values(), index=to_submit.keys(), columns=['output'])\n",
    "  sub_df.index.name = 'output_id'\n",
    "  return sub_df\n",
    "\n",
    "df = getSubmissionDF(nets_info, submission)\n",
    "df.to_csv('./data/submission.csv')"
   ]
  },
  {
   "cell_type": "markdown",
   "metadata": {},
   "source": [
    "## Further study\n",
    "\n",
    "**Some questions remain unanswered**\n",
    "\n",
    "+ How to handle different shapes from inputs to outputs\n",
    "+ Is it still a good idea to try to add channels as \"atomic function\" applications?\n",
    "+ We still have to develop a way of evaluating the algorithm, since now we've just implemented a \"report\" that can makes us understand but it's not ideal\n",
    "+ Make a dynamic way of training like a detector for early stop training \n",
    "+ A GAN architecture and AutoEncoder architectures are still missing to test and develop"
   ]
  },
  {
   "cell_type": "code",
   "execution_count": null,
   "metadata": {},
   "outputs": [],
   "source": []
  }
 ],
 "metadata": {
  "kernelspec": {
   "display_name": "Python 3.6.9 64-bit",
   "language": "python",
   "name": "python36964bita6748a10fd904a55b24d331e21814786"
  },
  "language_info": {
   "codemirror_mode": {
    "name": "ipython",
    "version": 3
   },
   "file_extension": ".py",
   "mimetype": "text/x-python",
   "name": "python",
   "nbconvert_exporter": "python",
   "pygments_lexer": "ipython3",
   "version": "3.6.9"
  }
 },
 "nbformat": 4,
 "nbformat_minor": 4
}
