{
 "cells": [
  {
   "cell_type": "markdown",
   "metadata": {},
   "source": [
    "**<div style=\"text-align:right;\">Jhonatan Leonardo TORRES SANCHEZ</div>**\n",
    "**<div style=\"text-align:right;\">Houssem NJAH</div>**\n",
    "**<div style=\"text-align:right;\">Valentin PORTILLO GALVAN</div>**"
   ]
  },
  {
   "cell_type": "markdown",
   "metadata": {},
   "source": [
    "# Abstraction and Reasoning Challenge\n",
    "\n",
    "As a small introduction, the [\"Abstraction and Reasoning\" kaggle challenge](https://www.kaggle.com/c/abstraction-and-reasoning-challenge) aims to be able to grasp and somehow represent more intelligent artficial intelligence since the actual approaches, are highly data dependent and the approaches given seems not to extract real intelligence. Here we're speaking of deep learning. So how to manage to start giving a better approach to real intelligence to algorithms. Intelligence should be defined, and it has several definitions from experts in the field. In order to match the a computer science based approach with intelligence a basic approach is proposed: a baby world's discovery. As all know, we start not knowing Newtons' laws or how to prepare coffee, but we learn, we learn by trial error as science may argue. In order to start somewhere to do this a computer science approach, a hierarchization of knowledge (figure #1) and a learning process flow (figure #2) are propposed by [François Chollet](https://fchollet.com/) in his article \"[On the Measure of Intelligence](https://arxiv.org/abs/1911.01547)\".\n",
    "\n",
    "<img style=\"max-width: 600px\" alt=\"hierarchy_of_intelligence\" src=\"https://external-content.duckduckgo.com/iu/?u=https%3A%2F%2Fzdnet3.cbsistatic.com%2Fhub%2Fi%2Fr%2F2019%2F11%2F26%2F3e5da851-731e-4983-b1ca-13d0021104c5%2Fresize%2F1200xauto%2F5aa66686c664adb37be4ac81b6ddee78%2Fchollet-hierarchy-of-intelligence.png&f=1&nofb=1\">\n",
    "\n",
    "<img style=\"max-width: 600px\" alt=\"kinda_reinforcment_learning\" src=\"https://external-content.duckduckgo.com/iu/?u=https%3A%2F%2Fzdnet1.cbsistatic.com%2Fhub%2Fi%2Fr%2F2019%2F11%2F26%2Ff9e1b3fe-85fc-4000-9e91-035d2ab19f63%2Fresize%2F1200xauto%2Fca715feda35acbaafc95c59eb017a3c1%2Fchollet-model-of-an-intelligent-system.png&f=1&nofb=1\">\n",
    "\n",
    "As you may notice from the proposals, the hierarchy is mainly a \"divide and conquer\" approach which is a very good approach of how the brain works since it's theoritized that the brain actually when learning, it tries to \"connect the dots\" by connecting already acquired knowledge to this new knowledge [[1]](https://barbaraoakley.com/books/a-mind-for-numbers/). \n",
    "\n",
    "For the learning process, it's abtracting a baby learning process which seems very accurate because in order to do a task, approaches are made and they could be good or bad, the bayby will know, as the algorithm will with the feedback or reward. In order to propose a first approach to any task, the baby has world priors that would let him start with something and creating each time more complex knowledge that will enable him with more and more accurate appraoches or the ability to do more complicated tasks. For the algorithm, this is done by the proposal of priors that will enable it to start with something and create new knowledge. A parallelism comes to mind: knowledge bases creation, but automated.\n",
    "\n",
    "Not developing more, this process of learning and hierarchic task developement is the exercice that proposes the challenge. So, the facts that we extract from the reading and understanding the article are that whatever we propose has to have:\n",
    "\n",
    "+ Priors proposal\n",
    "+ Knowledge increment\n",
    "+ Independence of data\n",
    "\n",
    "## The abstracted approach\n",
    "\n",
    "For the data we have n tasks that have to be understood by m examples that goes from a starting figure to a goal figure. By understanding the task on each ensemble of m examples, the test, that corresponds to the same task logic, should be accomplished. It's like when you have 2 exemples and you are asked to understand the pattern that happens when passing from input 1 to output 1, then from input 2 to output 2 and then they just give you a third input and you have to complete the third output. \n",
    "\n",
    "## First thoughts\n",
    "\n",
    "> As a rule, our proposals are based on \"atomic functions\" as the minimal expression of a task => *atomic functions (functions that do simple tranformation/calculation/characteristic_extraction/featurization)*\n",
    "\n",
    "+ Sequential atomic functions application plus objective function (maybe the most naive approaches?)\n",
    "  + A list of atomic functions, ordered somehow and with an application\n",
    "    + This approach is the most naive, it's based on proposing atomic functions, then deciding the number of times that each of the atomic function should be applied plus the order in loops, hopefully finding that the order and applications found would be enough to apply in the rest of examples and so, understand the task\n",
    "    + Even if naive, it could work as an understanding of possible atomic functions\n",
    "    + <span style=\"color:tomato\">Spoiler alert</span> Couldn't end it for at least one example because on the difficulty of applying the functions. It became obvious that a recursive approach was necessary in order to apply the functions, they could be applyied as it is, so functions that would work as nodes in the recursive tree (for exemple: NLP) had to be built, so the definition of the groupings was necessary. We did't go further since it required a lot of work, work that would not be worth it since it was not scalable and too applyied to this challenge, and the main goal should be to propose a generalizable approach.\n",
    "  + Genetic algorithm (GA) on an objective funtion that evaluates n aspects formed by m atomic functions\n",
    "    + We need to the define the atomic functions, the grouping (the aspects) that will be reflected in the objective function\n",
    "    + So, the GA would find the order of the application of the atomic functions to maximize the objective function\n",
    "    + <span style=\"color:tomato\">Spoiler alert</span> Couldn't end it for at least one example. We started by defining the parts that the objective function would evaluate but the definition of the atomic functions remain a huge work since it's a difficult task to relate the atomic functions to one or several groups and the way of application remains unclear. Again, a recursive approach of functions applications may be necessary.\n",
    "    + find [here](https://www.kaggle.com/zenol42/dsl-and-genetic-algorithm-applied-to-arc) a <span style=\"color:green\">succesful</span> example of a GA. But, the idea behind is different to ours. The \"atomic functions\" are not there. The **Domain Specific Language (DSL)** resides on transormations of the images.\n",
    "  + **These ideas could be seen as approaches to a way of making a [cellular automaton](https://en.wikipedia.org/wiki/Cellular_automaton): dynamic approaches for cellular automaton rules extraction**\n",
    "    + We mention this because there is a proposal to treat tasks as a [cellular automaton on this competition](https://www.kaggle.com/arsenynerinovsky/cellular-automata-as-a-language-for-reasoning) which reinforced our idea on making atomic functions since actually, in an automaton, **a task could be completed by a limited set of functions**, each function can then be reduced to our famous \"atomic functions\".\n",
    "+ Recursive function application to build a linear atomic functions pipe\n",
    "  + Develop a language-interpreter-like program with defined functions, with defined rules, that would be able to recognize the environment and apply one of the applicatons found. \n",
    "+ *This was the decisive approach that made us think that we must have been complicating things, another way to go should be possible, a \"less strict\" and \"detailed\" approach shuuld be taken. Also, hard to accept that we haven't been able to accomplish to apply any of this \"theories\" to one task accomplishement.*\n",
    "\n",
    "> Second thoughts on Deep Learning\n",
    "\n",
    "+ As a confession, our first idea was to approach the problem somehow as an Autoencoder (AE), or as a Generative Adversarial Network (GAN), as we would somehow be trying to learn the tasks and maybe the atomic functions. We didn't started with this approach under the arguments that for deep learning algorithms, there's a strong dependency on data and we have less than 10 examples to train for each task to learn. Furthermore, in the [article](https://arxiv.org/abs/1911.01547), they mention that traditionnal deep learning approaches are impossible to use due to this fact. \n",
    "+ We decided to give it a try.\n",
    "+ (First approach: simple in out)\n",
    "1. input image output image -> inside learning of tasks, and atomic functions\n",
    "2. input image with features (including comparisons with output) output image -> inside learning of tasks and atomic functions but given a prior\n",
    "3. input image with features (no comparisons), output image with features (no comparisons) -> inside learning of tasks and atomic functions but given a prior\n",
    "4. input image output image, inside affectation of priors?"
   ]
  },
  {
   "cell_type": "code",
   "execution_count": 1,
   "metadata": {},
   "outputs": [],
   "source": [
    "import numpy as np\n",
    "import os\n",
    "import matplotlib.pyplot as plt\n",
    "from pprint import pprint as pp\n",
    "\n",
    "import importlib #importlib.reload(foo)\n",
    "import helpers as hp\n",
    "import display as dp\n",
    "import scripts as sc\n",
    "import atomic as ac\n",
    "import networkx as nx\n",
    "from itertools import product\n",
    "\n",
    "in_kaggle = False # IN KAGGLE"
   ]
  },
  {
   "cell_type": "markdown",
   "metadata": {},
   "source": [
    "### Data in a glance\n",
    "\n",
    "+ we have 10 integer values in data and as per the example given in the kaggle competition introduction, they will be used as colors\n",
    "+ for the data we have the next folders\n",
    "  + training -> Train and acquire ARC-relevant cognitive priors\n",
    "  + evaluation -> Evaluate algorithm\n",
    "  + test -> extraction from evaluation but without answer, mainly to score the model\n",
    "+ training has a train set of input + output exemples in order to learn the task and then a test set of input and output that will let us compare and understand if the task was learned\n",
    "\n",
    "### General variables"
   ]
  },
  {
   "cell_type": "code",
   "execution_count": 3,
   "metadata": {},
   "outputs": [
    {
     "data": {
      "image/png": "[encoded data removed]",
      "text/plain": [
       "<Figure size 500x200 with 1 Axes>"
      ]
     },
     "metadata": {
      "needs_background": "light"
     },
     "output_type": "display_data"
    }
   ],
   "source": [
    "data_dir = './data/' if not in_kaggle else '/kaggle/input'\n",
    "training_path, evaluation_path, test_path = f'{data_dir}training', f'{data_dir}evaluation', f'{data_dir}test'\n",
    "training_tasks, evaluation_tasks, test_tasks = sorted(os.listdir(training_path)), sorted(os.listdir(evaluation_path)), sorted(os.listdir(test_path))\n",
    "dp.showTotalColors()\n",
    "black, blue, red, green, yellow, gray, magenta, orange, sky, brown = range(10)\n",
    "colors = { cname: c for c, cname in enumerate(['black', 'blue', 'red', 'green', 'yellow', 'gray', 'magenta', 'orange', 'sky', 'brown']) }"
   ]
  },
  {
   "cell_type": "markdown",
   "metadata": {},
   "source": [
    "### Display some task to better understand the intention "
   ]
  },
  {
   "cell_type": "code",
   "execution_count": 4,
   "metadata": {},
   "outputs": [
    {
     "data": {
      "text/plain": [
       "<Figure size 432x288 with 0 Axes>"
      ]
     },
     "metadata": {},
     "output_type": "display_data"
    },
    {
     "data": {
      "image/png": "[encoded data removed]",
      "text/plain": [
       "<Figure size 1200x400 with 12 Axes>"
      ]
     },
     "metadata": {
      "needs_background": "light"
     },
     "output_type": "display_data"
    },
    {
     "data": {
      "text/plain": [
       "<Figure size 432x288 with 0 Axes>"
      ]
     },
     "metadata": {},
     "output_type": "display_data"
    },
    {
     "data": {
      "image/png": "[encoded data removed]",
      "text/plain": [
       "<Figure size 1200x400 with 12 Axes>"
      ]
     },
     "metadata": {
      "needs_background": "light"
     },
     "output_type": "display_data"
    },
    {
     "data": {
      "text/plain": [
       "<Figure size 432x288 with 0 Axes>"
      ]
     },
     "metadata": {},
     "output_type": "display_data"
    },
    {
     "data": {
      "image/png": "[encoded data removed]",
      "text/plain": [
       "<Figure size 800x400 with 8 Axes>"
      ]
     },
     "metadata": {
      "needs_background": "light"
     },
     "output_type": "display_data"
    },
    {
     "data": {
      "text/plain": [
       "<Figure size 432x288 with 0 Axes>"
      ]
     },
     "metadata": {},
     "output_type": "display_data"
    },
    {
     "data": {
      "image/png": "[encoded data removed]",
      "text/plain": [
       "<Figure size 600x400 with 6 Axes>"
      ]
     },
     "metadata": {
      "needs_background": "light"
     },
     "output_type": "display_data"
    },
    {
     "data": {
      "text/plain": [
       "<Figure size 432x288 with 0 Axes>"
      ]
     },
     "metadata": {},
     "output_type": "display_data"
    },
    {
     "data": {
      "image/png": "[encoded data removed]",
      "text/plain": [
       "<Figure size 800x400 with 8 Axes>"
      ]
     },
     "metadata": {
      "needs_background": "light"
     },
     "output_type": "display_data"
    }
   ],
   "source": [
    "sc.showNTrainingSamples(5, training_tasks, training_path, show=False)\n",
    "#sc.showNTrainingSamples(2, test_tasks, test_path, test_task=True)\n",
    "#sc.showNTrainingSamples(2, evaluation_tasks, evaluation_path)"
   ]
  },
  {
   "cell_type": "markdown",
   "metadata": {},
   "source": [
    "### General comments from studied tasks\n",
    "\n",
    "+ We have tasks that change of size from input to output, not necessarily on a specific scale, meaning that width and height may change differently\n",
    "+ Some of the tasks to accomplish are \"filling the black boxes when surrounded by a color\", \"copy left pattern to right pattern\"... etcetera.\n",
    "+ From examples above (first 5) we can see that the task to accomplish are not the same\n",
    "  1. From pattern on input, copy same pattern on output arranged according to pattern on input on a 3x scaled image from a 3x3 input using same color\n",
    "  2. Fill with yellow the black boxes that are surrounded by the green boxes\n",
    "  3. From blue to red, take the pattern and copy it as to perform continuity of the pattern\n",
    "  4. *Unclear for us, hope the algorithm will get it ^^*\n",
    "  5. From central pattern, copy same pattern repeatedly until the limits in the direction from the center to the \"other color starting points\" using the color proposed from the starting points\n",
    "  \n",
    "> This may seem as an impossible task from just the descriptions but what if the tasks described here could be performed by a limited set of smaller actions that would describe the bigger task by mixing themselves in a certain order and from 0 to n repetitions\n",
    "\n",
    "### Work with one example (we'll choose the second one)"
   ]
  },
  {
   "cell_type": "code",
   "execution_count": 10,
   "metadata": {},
   "outputs": [
    {
     "data": {
      "text/plain": [
       "<Figure size 432x288 with 0 Axes>"
      ]
     },
     "metadata": {},
     "output_type": "display_data"
    },
    {
     "data": {
      "image/png": "[encoded data removed]",
      "text/plain": [
       "<Figure size 1200x400 with 12 Axes>"
      ]
     },
     "metadata": {
      "needs_background": "light"
     },
     "output_type": "display_data"
    }
   ],
   "source": [
    "info = hp.getGeneralInfoFromTask(training_path+'/00d62c1b.json')\n",
    "dp.plot_task(info, 1, '00d62c1b')"
   ]
  },
  {
   "cell_type": "markdown",
   "metadata": {},
   "source": [
    "> <span style=\"color:tomato\">How to propose the atomic functions, which caracteristics, hoy many, how to apply them?</span>"
   ]
  },
  {
   "cell_type": "markdown",
   "metadata": {},
   "source": [
    "## Develop Ideas for atomic functions\n",
    "\n",
    "> We will consider \"atomic functions\" as lambda functions, as per a [lambda calculus](https://en.wikipedia.org/wiki/Lambda_calculus) approach."
   ]
  },
  {
   "cell_type": "code",
   "execution_count": 14,
   "metadata": {},
   "outputs": [],
   "source": [
    "n_colors = 10\n",
    "shape_col_index, shape_row_index = 1, 0\n",
    "black, blue, red, green, yellow, gray, magenta, orange, sky, brown = range(n_colors)\n",
    "\n",
    "def moveMToLeft(m):\n",
    "  permutation = [ *range(1, m.shape[shape_col_index]), 0]\n",
    "  return m[:, permutation]\n",
    "\n",
    "def moveMToRight(m):\n",
    "  permutation = [ m.shape[shape_col_index] - 1 , *range(0, m.shape[shape_col_index] - 1)]\n",
    "  return m[:, permutation]\n",
    "\n",
    "def getMCellInfo(m, c):\n",
    "  \"\"\"\n",
    "  get basic info: coords, shape and copy matrix to simmulate immutablity (not to affect the root matrix, but create copy)\n",
    "  \"\"\"\n",
    "  x_index, y_index = c\n",
    "  n_rows, n_cols = m.shape\n",
    "  return x_index, y_index, n_rows, n_cols, np.copy(m)\n",
    "\n",
    "leftPermutation = lambda m: [ *range(1, m.shape[shape_col_index]), 0]\n",
    "rightPermutation = lambda m: [ m.shape[shape_col_index] - 1 , *range(0, m.shape[shape_col_index] - 1)]\n",
    "upwardsPermutation = lambda m: [ *range(1, m.shape[shape_row_index]), 0]\n",
    "downwardsPermutation = lambda m: [ m.shape[shape_row_index] - 1 , *range(0, m.shape[shape_row_index] - 1)]\n",
    "  \n",
    "# --- MODIFYING MATRIX FUNCTIONS ---\n",
    "def permuteRowToLeft(m, c): #move symetrically row [0, 1, 2] => [1, 2, 0]\n",
    "  x_index, y_index, n_rows, n_cols, m = getMCellInfo(m, c)\n",
    "  m[ y_index ] = m[ y_index, leftPermutation(m) ]\n",
    "  return m, c\n",
    "\n",
    "def permuteRowToRight(m, c): # move symetrically row [0, 1, 2] => [2, 0, 1]\n",
    "  x_index, y_index, n_rows, n_cols, m = getMCellInfo(m, c)\n",
    "  m[ y_index ] = m[ y_index, rightPermutation(m) ]\n",
    "  return m, c\n",
    "\n",
    "def permuteColUpwards(m, c): # move symetrically col [[0],[1],[2]] => [[1],[2],[0]]\n",
    "  x_index, y_index, n_rows, n_cols, m = getMCellInfo(m, c)\n",
    "  m[:, x_index ] = m[ upwardsPermutation(m), x_index ]\n",
    "  return m, c\n",
    "\n",
    "def permuteColDownwards(m, c): # move symetrically col [[0],[1],[2]] => [[1],[2],[0]]\n",
    "  x_index, y_index, n_rows, n_cols, m = getMCellInfo(m, c)\n",
    "  m[:, x_index ] = m[ downwardsPermutation(m), x_index ]\n",
    "  return m, c\n",
    "\n",
    "# --- MOVING PATTERN FUNCTIONS ---\n",
    "movePatternToLeft = lambda pattern: pattern[:, leftPermutation(pattern)]\n",
    "movePatternToRight = lambda pattern: pattern[:, rightPermutation(pattern)]\n",
    "movePatternUpwards = lambda pattern: pattern[upwardsPermutation(pattern), :]\n",
    "movePatternDownwards = lambda pattern: pattern[downwardsPermutation(pattern), :]\n",
    "\n",
    "# needs pattern applied\n",
    "patternMovement = {\n",
    "  'movePatternToLeft': movePatternToLeft,\n",
    "  'movePatternToRight': movePatternToRight,\n",
    "  'movePatternUpwards': movePatternUpwards,\n",
    "  'movePatternDownwards': movePatternDownwards,\n",
    "}\n",
    "\n",
    "# --- COLOR PATTERN ---\n",
    "colorPattern = lambda pattern, color: np.where(pattern == black, pattern, color)\n",
    "# colorAntiPattern = lambda pattern, color: np.where(pattern != black, pattern, black)"
   ]
  },
  {
   "cell_type": "markdown",
   "metadata": {},
   "source": [
    "> One proposal to organize functions"
   ]
  },
  {
   "cell_type": "raw",
   "metadata": {},
   "source": [
    "def atomicFunctions():\n",
    "  black, blue, red, green, yellow, gray, magenta, orange, sky, brown = range(10)\n",
    "  shape_col_index, shape_row_index = 1, 0\n",
    "  return {\n",
    "    # move one pixel to the left\n",
    "    'move_left': moveMToLeft,\n",
    "    'move_right': {\n",
    "      'f': moveMToRight,\n",
    "      'from_analysis':\n",
    "    }\n",
    "    # move one pizel to the right\n",
    "    #'change_matrix_size': lambda m, n: np.,\n",
    "    #'multiply': \n",
    "  }"
   ]
  },
  {
   "cell_type": "markdown",
   "metadata": {},
   "source": [
    "## Let's start by the simple \n",
    "\n",
    "> Grab one input output from one task (00d62c1b)"
   ]
  },
  {
   "cell_type": "code",
   "execution_count": 7,
   "metadata": {},
   "outputs": [],
   "source": [
    "a = np.matrix([\n",
    "  [1,2,3, 4],\n",
    "  [2,3,4, 5],\n",
    "  [3,4,5, 6],\n",
    "])\n",
    "\n",
    "pattern = np.matrix([ # input\n",
    "  [0, 0, 0, 0, 0, 0],\n",
    "  [0, 0, 3, 0, 0, 0],\n",
    "  [0, 3, 0, 3, 0, 0],\n",
    "  [0, 0, 3, 0, 3, 0],\n",
    "  [0, 0, 0, 3, 0, 0],\n",
    "  [0, 0, 0, 0, 0, 0]\n",
    "])\n",
    "output =  [[0, 0, 0, 0, 0, 0],\n",
    "           [0, 0, 3, 0, 0, 0],\n",
    "           [0, 3, 4, 3, 0, 0],\n",
    "           [0, 0, 3, 4, 3, 0],\n",
    "           [0, 0, 0, 3, 0, 0],\n",
    "           [0, 0, 0, 0, 0, 0]]\n"
   ]
  },
  {
   "cell_type": "markdown",
   "metadata": {},
   "source": [
    "> Could we maybe approach the task solving by using patterns, and so, graphs?"
   ]
  },
  {
   "cell_type": "code",
   "execution_count": 9,
   "metadata": {},
   "outputs": [
    {
     "data": {
      "image/png": "[encoded data removed]",
      "text/plain": [
       "<Figure size 432x288 with 1 Axes>"
      ]
     },
     "metadata": {},
     "output_type": "display_data"
    }
   ],
   "source": [
    "# Get Neighbors for zombie moves according to rules\n",
    "def getNeigborCellList(i, j, m, condition):\n",
    "  n = []\n",
    "  if not condition(m[i, j]): return n\n",
    "  for i_sub in range(3): # Rows\n",
    "    for j_sub in range(3): # Cols\n",
    "      if i_sub == 1 and j_sub == 1: continue \n",
    "      ip = i + i_sub - 1\n",
    "      jp = j + j_sub - 1\n",
    "      if ip < 0 or jp < 0 or ip == len(m) or jp == len(m[0]) : continue\n",
    "      #print(ip,jp)\n",
    "      #print(m[ip, jp])\n",
    "      if condition(m[ip, jp]):\n",
    "        #n.append(m[i + i_sub - 1][j + j_sub - 1])\n",
    "        n.append( (i + i_sub - 1, j + j_sub - 1) )\n",
    "  return n\n",
    "  \n",
    "def toGraph(grid, color):\n",
    "  G = nx.Graph()\n",
    "  for lon in range(grid.shape[0]):\n",
    "    for lat in range(grid.shape[1]):\n",
    "      #print(lon, lat)\n",
    "      condition_valid = lambda v: v == color\n",
    "      neighbor_cells = getNeigborCellList(lon, lat, grid, condition_valid) # just study possible moves\n",
    "      for n in neighbor_cells:\n",
    "        #print(n, lon, lat)\n",
    "        G.add_edge(f'{lon}_{lat}', f'{n[0]}_{n[1]}') #weight = ?\n",
    "  return G\n",
    "\n",
    "v = np.matrix([[0, 0, 0, 0, 0, 0],\n",
    "  [0, 0, 3, 0, 0, 0],\n",
    "  [0, 3, 4, 3, 0, 0],\n",
    "  [0, 0, 3, 4, 3, 0],\n",
    "  [0, 0, 0, 3, 0, 0],\n",
    "  [0, 0, 0, 0, 0, 0]])\n",
    "G = toGraph(v, 3)\n",
    "nx.draw_networkx(G, with_labels = True)"
   ]
  },
  {
   "cell_type": "markdown",
   "metadata": {},
   "source": [
    "> **<span style=\"color:red\">No</span>**, patterns shouldn't be a part of a descriptor, patterns should be learned *(first example of how easy it is to, mistakenly, propose \"already digesested\" tasks/functions)*\n",
    "\n",
    "> Now that we have some atomic functions <span style=\"color:tomato\">How to map input to output?</span>"
   ]
  },
  {
   "cell_type": "code",
   "execution_count": 12,
   "metadata": {},
   "outputs": [],
   "source": [
    "ex = info['train'][0]\n",
    "inp = ex['input']\n",
    "out = ex['output']\n",
    "functions = []\n",
    "def howToMapInputToOutput(funs, inp, out):\n",
    "  inp, out = np.matrix(inp), np.matrix(out) \n",
    "  # TODO\n",
    "  \n",
    "howToMapInputToOutput(functions, inp, out)"
   ]
  },
  {
   "cell_type": "code",
   "execution_count": 12,
   "metadata": {},
   "outputs": [],
   "source": [
    "jl, c = permuteColUpwards(a, (1, 1))\n",
    "jr, c = permuteColDownwards(a, (1, 2))"
   ]
  },
  {
   "cell_type": "code",
   "execution_count": 13,
   "metadata": {},
   "outputs": [
    {
     "name": "stdout",
     "output_type": "stream",
     "text": [
      "[[1 2 3 4]\n",
      " [2 3 4 5]\n",
      " [3 4 5 6]]\n",
      "[[1 3 3 4]\n",
      " [2 4 4 5]\n",
      " [3 2 5 6]]\n",
      "[[1 4 3 4]\n",
      " [2 2 4 5]\n",
      " [3 3 5 6]]\n"
     ]
    }
   ],
   "source": [
    "print(a)\n",
    "print(jl)\n",
    "print(jr)"
   ]
  },
  {
   "cell_type": "markdown",
   "metadata": {},
   "source": [
    "> Trying to develop this function, brought a very important question to develop: <span style=\"color:tomato\">Are the functions proposed pertinent?</span> A better approach seems to handle a **cell as the minimal unit**, and everything has to be done from the \"point of view\" of a cell, no patterns usage"
   ]
  },
  {
   "cell_type": "code",
   "execution_count": 51,
   "metadata": {},
   "outputs": [],
   "source": [
    "# get all around neighbors values of cell dict {(cell): value ...}\n",
    "getNeighCells = lambda x, i, j: { \n",
    "  (ip, jp) : x[i+ip, j+jp] \n",
    "    for ip, jp in product([1, -1, 0], repeat=2) \n",
    "      if 0 <= i+ip < x.shape[0] and 0 <= j+jp < x.shape[1]\n",
    "}\n",
    "\n",
    "# --- Cell & Neighbors information Extaction ---\n",
    "cellColor = lambda x, i, j: x[i, j]\n",
    "# get the pattern that the neighbors draw in a list\n",
    "neighPattern = lambda x, i, j: np.array([ x[i+ip, j+jp] for ip, jp in product([1, -1, 0], repeat=2) if 0 <= i+ip < x.shape[0] and 0 <= j+jp < x.shape[1] ])\n",
    "# [upper_neigh_value, cell_value, lower_neigh_value]\n",
    "verticalLine = lambda x, i, j: np.array(x[i-(1 if i>0 else 0):i+1+(0 if i==x.shape[1] else 1),j])\n",
    "# [left_neigh_value, cell_value, right_neigh_value]\n",
    "horizontalLine = lambda x, i, j: np.array(x[i,j-(1 if j>0 else 0):j+1+(0 if j==x.shape[0] else 1)])\n",
    "# [bottom_left_neigh_value, cell_value, top_right_neigh_value]\n",
    "bl_trDiagonal = lambda x, i, j: np.array([ x[i+ip,j+jp] for ip, jp in [(1,-1),(0,0),(-1,1)] if 0<=i+ip<x.shape[0] and 0<=j+jp<x.shape[1] ])\n",
    "# [top_left_neigh_value, cell_value, bottom_right_neigh_value]\n",
    "tl_brDiagonal = lambda x, i, j: np.array([ x[i+ip,j+jp] for ip, jp in [(-1,-1),(0,0),(1,1)] if 0<=i+ip<x.shape[0] and 0<=j+jp<x.shape[1] ])"
   ]
  },
  {
   "cell_type": "code",
   "execution_count": 37,
   "metadata": {},
   "outputs": [
    {
     "name": "stdout",
     "output_type": "stream",
     "text": [
      "this is the cell studied:  (1, 1) , and here its surroundings:\n",
      "array([[0, 0, 0],\n",
      "       [0, 0, 3],\n",
      "       [0, 3, 0]])\n",
      "--- caracterize it from all options caracterize options ---\n",
      "neigh: \t[0 0 3 0 0 0 3 0 0]\n",
      "verticalLine: \t[0 0 3]\n",
      "horizontalLine: \t[0 0 3]\n",
      "bl_trDiagonal: \t[0 0 0]\n",
      "tr_tlDiagonal: \t[0 0 0]\n",
      "color: \t0\n"
     ]
    }
   ],
   "source": [
    "importlib.reload(hp)\n",
    "importlib.reload(sc)\n",
    "importlib.reload(ac)\n",
    "\n",
    "# characterize a cell\n",
    "cell = (0,0)\n",
    "n_colors = 10\n",
    "shape_col_index, shape_row_index = 1, 0\n",
    "black, blue, red, green, yellow, gray, magenta, orange, sky, brown = range(n_colors)\n",
    "\n",
    "colorFun = {\n",
    "  'black': lambda x, i, j: black,\n",
    "  'blue': lambda x, i, j: blue,\n",
    "  'red': lambda x, i, j: red,\n",
    "  'green': lambda x, i, j: green,\n",
    "  'yellow': lambda x, i, j: yellow,\n",
    "  'gray': lambda x, i, j: gray,\n",
    "  'magenta': lambda x, i, j: magenta,\n",
    "  'orange': lambda x, i, j: orange,\n",
    "  'sky': lambda x, i, j: sky,\n",
    "  'brown': lambda x, i, j: brown\n",
    "}\n",
    "\n",
    "ex_inp = np.array(pattern)\n",
    "ex_out = np.array(output)\n",
    "\n",
    "caracterize = {\n",
    "  #'color': ac.cellColor, # just one option of COLOR\n",
    "  'neigh': ac.neighPattern,\n",
    "  'verticalLine': ac.verticalLine,\n",
    "  'horizontalLine': ac.horizontalLine,\n",
    "  'bl_trDiagonal': ac.bl_trDiagonal,\n",
    "  'tr_tlDiagonal': ac.tr_tlDiagonal,\n",
    "  'color': ac.cellColor,\n",
    "} # dict_to_store\n",
    "\n",
    "cell = (1,1)\n",
    "print('this is the cell studied: ', cell, ', and here its surroundings:')\n",
    "pp(ex_inp[cell[0]-1:cell[0]+1+1, cell[1]-1:cell[1]+1+1])\n",
    "print('--- caracterize it from all options caracterize options ---')\n",
    "for name, f in caracterize.items():\n",
    "  print(f'{name}: \\t{f(ex_inp, *cell)}')"
   ]
  },
  {
   "cell_type": "markdown",
   "metadata": {},
   "source": [
    "> A First approach to an organization of how the objective function could be organized (evaluate changes, evaluate the \"what\", the \"how\")"
   ]
  },
  {
   "cell_type": "code",
   "execution_count": 38,
   "metadata": {},
   "outputs": [],
   "source": [
    "applications = {\n",
    "  'changes': {\n",
    "    'True': lambda x,i,j: True,\n",
    "    'False': lambda x,i,j: False,\n",
    "  },\n",
    "  'what': {\n",
    "    'color': {\n",
    "      'black': lambda x, i, j: black,\n",
    "      'blue': lambda x, i, j: blue,\n",
    "      'red': lambda x, i, j: red,\n",
    "      'green': lambda x, i, j: green,\n",
    "      'yellow': lambda x, i, j: yellow,\n",
    "      'gray': lambda x, i, j: gray,\n",
    "      'magenta': lambda x, i, j: magenta,\n",
    "      'orange': lambda x, i, j: orange,\n",
    "      'sky': lambda x, i, j: sky,\n",
    "      'brown': lambda x, i, j: brown \n",
    "    }\n",
    "  },\n",
    "  'how': {\n",
    "    'neigh': ac.neighPattern,\n",
    "    'verticalLine': ac.verticalLine,\n",
    "    'horizontalLine': ac.horizontalLine,\n",
    "    'bl_trDiagonal': ac.bl_trDiagonal,\n",
    "    'tl_brDiagonal': ac.tl_brDiagonal,\n",
    "  }\n",
    "}"
   ]
  },
  {
   "cell_type": "markdown",
   "metadata": {},
   "source": [
    "## Sequential atomic functions application: \n",
    "### *In the research for an objective function and a way to map inputs to outpus (atomic functions applications)*"
   ]
  },
  {
   "cell_type": "markdown",
   "metadata": {},
   "source": [
    "*Model how a matrix could be filled with applications, in order to execute them in a second step*"
   ]
  },
  {
   "cell_type": "code",
   "execution_count": 43,
   "metadata": {},
   "outputs": [
    {
     "name": "stdout",
     "output_type": "stream",
     "text": [
      "neigh\n",
      "(1, 1) [0 0 3 0 0 0 3 0 0] [4 0 3 0 0 0 3 0 0]\n",
      "(1, 2) [3 3 0 0 0 0 0 0 3] [3 3 4 0 0 0 0 0 3]\n",
      "(1, 3) [0 0 3 0 0 0 0 3 0] [0 4 3 0 0 0 0 3 0]\n",
      "(2, 1) [3 0 0 3 0 0 0 0 3] [3 0 0 3 0 0 4 0 3]\n",
      "(2, 2) [0 0 3 0 0 3 3 3 0] [4 0 3 0 0 3 3 3 4]\n",
      "(2, 3) [3 3 0 0 3 0 0 0 3] [3 3 4 0 3 0 0 4 3]\n",
      "(2, 4) [0 0 3 0 0 0 0 3 0] [0 4 3 0 0 0 0 3 0]\n",
      "(3, 1) [0 0 0 0 0 3 3 0 0] [0 0 0 4 0 3 3 0 0]\n",
      "(3, 2) [3 0 0 3 3 0 0 0 3] [3 0 0 3 3 4 4 0 3]\n",
      "(3, 3) [0 0 3 0 0 3 3 3 0] [0 0 3 0 4 3 3 3 4]\n",
      "(3, 4) [0 3 0 0 3 0 0 0 3] [0 3 0 0 3 0 0 4 3]\n",
      "(4, 2) [0 0 0 0 0 3 3 0 0] [0 0 0 4 0 3 3 0 0]\n",
      "(4, 3) [0 0 0 3 3 0 0 0 3] [0 0 0 3 3 4 0 0 3]\n",
      "(4, 4) [0 0 0 0 0 3 0 3 0] [0 0 0 0 4 3 0 3 0]\n",
      "verticalLine\n",
      "(1, 2) [0 3 0] [0 3 4]\n",
      "(2, 2) [3 0 3] [3 4 3]\n",
      "(2, 3) [0 3 0] [0 3 4]\n",
      "(3, 2) [0 3 0] [4 3 0]\n",
      "(3, 3) [3 0 3] [3 4 3]\n",
      "(4, 3) [0 3 0] [4 3 0]\n",
      "horizontalLine\n",
      "(2, 1) [0 3 0] [0 3 4]\n",
      "(2, 2) [3 0 3] [3 4 3]\n",
      "(2, 3) [0 3 0] [4 3 0]\n",
      "(3, 2) [0 3 0] [0 3 4]\n",
      "(3, 3) [3 0 3] [3 4 3]\n",
      "(3, 4) [0 3 0] [4 3 0]\n",
      "bl_trDiagonal\n",
      "(1, 3) [0 0 0] [4 0 0]\n",
      "(2, 2) [0 0 0] [0 4 0]\n",
      "(2, 4) [0 0 0] [4 0 0]\n",
      "(3, 1) [0 0 0] [0 0 4]\n",
      "(3, 3) [0 0 0] [0 4 0]\n",
      "(4, 2) [0 0 0] [0 0 4]\n",
      "tr_tlDiagonal\n",
      "(1, 1) [0 0 0] [0 0 4]\n",
      "(2, 2) [0 0 0] [0 4 4]\n",
      "(3, 3) [0 0 0] [4 4 0]\n",
      "(4, 4) [0 0 0] [4 0 0]\n",
      "color\n",
      "(2, 2) 0 4\n",
      "(3, 3) 0 4\n"
     ]
    }
   ],
   "source": [
    "i_d = hp.createGridDict(ex_inp)\n",
    "o_d = hp.createGridDict(ex_out)\n",
    "for name, f in caracterize.items():\n",
    "  print(name)\n",
    "  for cell, _ in i_d.items():\n",
    "    if not np.array_equal(f(ex_inp, *cell), f(ex_out, *cell)):\n",
    "      if name in applications['what']: \n",
    "        for k, app in applications['what'][name].items():\n",
    "          if app(ex_inp, *cell) == f(ex_out, *cell):\n",
    "            if not 'app' in i_d[cell]: i_d[cell]['app'] = []\n",
    "            i_d[cell]['app'] += [ app ]\n",
    "      print(cell, f(ex_inp, *cell), f(ex_out, *cell)) # Show what would be the result of the application"
   ]
  },
  {
   "cell_type": "markdown",
   "metadata": {},
   "source": [
    "> Next two notebook cells were converted to \"markdown\" because there's no need to show a poorly-made intent to develop the DSL and how it would be applied (*it took us a lot of time though, to plan it and develop it, and we're worried about how the mark will be made, so if invested time is taken into account, we're showing this*). It's half-made because in a team meeting, we agreed to stop working on this approach and refresh our minds with new ideas, end here's where another breakout happen: <span style=\"color:tomato\">what if we actually could use **deep learing** approaches to solve this?</span>"
   ]
  },
  {
   "cell_type": "markdown",
   "metadata": {},
   "source": [
    "**<span style=\"color:blue\">developement converted to markdown</span>**\n",
    "```python\n",
    "n = 2\n",
    "samples = info['train'][0:n]\n",
    "\n",
    "for sample in samples:\n",
    "  i = np.array(sample['input'])\n",
    "  o = np.array(sample['output'])\n",
    "  i_d = hp.createGridDict(i)\n",
    "  o_d = hp.createGridDict(o)\n",
    "  changes = {}\n",
    "  for cell, _ in i_d.items(): \n",
    "    f = ac.cellColor # Color is the only thing changing, when localizing a color change stop to analyse\n",
    "    is_same_array = lambda f, a, b, cell: np.array_equal(f(a, *cell), f(b, *cell))\n",
    "    change_in_cell = not is_same_array(f, i, o, cell)\n",
    "    i_d[cell]['app'] = [ applications['changes'][ str( change_in_cell ) ] ] # trace change or not change\n",
    "    # Stop and analyse, apply until applications are enough\n",
    "    # Maybe first forward analysis will throw that some changes of colors are enough, \n",
    "    # with another example, and comparng with previous, some other rules might come \"to mind\"\n",
    "    what = applications['what']\n",
    "    if change_in_cell: \n",
    "      changes[cell] = [ c for cname, c in what['color'].items() if c(i, *cell) == f(o, *cell) ] # what -> Colors \n",
    "      i_d[cell]['app'] += changes[cell] \n",
    "    # changes have been spoted, \n",
    "    # Understand why by describing and relating to changes\n",
    "    how = applications['how']\n",
    "    for cname, c in how.items():\n",
    "      if not is_same_array(c, i, o, cell):\n",
    "            print(is_same_array(c, i, o, cell))\n",
    "    \n",
    "    \n",
    "    if change_in_cell: print(cell, f(i, *cell), f(o, *cell))\n",
    "    #else: \n",
    "      #print(f'missing -> {name}')\n",
    "```"
   ]
  },
  {
   "cell_type": "markdown",
   "metadata": {},
   "source": [
    "**<span style=\"color:blue\">developement converted to markdown</span>**\n",
    "```python\n",
    "n = 1\n",
    "samples = info['train'][0:n]\n",
    "\n",
    "for sample in samples:\n",
    "  i = np.array(sample['input'])\n",
    "  o = np.array(sample['output'])\n",
    "  i_d = hp.createGridDict(i)\n",
    "  o_d = hp.createGridDict(o)\n",
    "  changes = {}\n",
    "  for cell, _ in i_d.items(): \n",
    "    if not 'caracterize' in i_d[cell]: i_d[cell]['caracterize'] = {}\n",
    "    fc = ac.cellColor # Color is the only thing changing, when localizing a color change stop to analyse\n",
    "    is_same_array = lambda f,a,b,cell: np.array_equal(f(a, *cell), f(b, *cell))\n",
    "    i_d[cell]['caracterize']['changed'] = applications['changes'][ str( not is_same_array(fc,i,o,cell) ) ]\n",
    "    what = applications['what']\n",
    "    i_d[cell]['caracterize']['color'] = i[cell]\n",
    "    how = applications['how']\n",
    "    for cname, c in how.items():\n",
    "      if not is_same_array(c, i, o, cell):\n",
    "            print(is_same_array(c, i, o, cell))\n",
    "    \n",
    "    if change_in_cell: print(cell, f(i, *cell), f(o, *cell))\n",
    "```"
   ]
  },
  {
   "cell_type": "markdown",
   "metadata": {},
   "source": [
    "## Deep Learning Second Thoughts 💭"
   ]
  },
  {
   "cell_type": "code",
   "execution_count": 683,
   "metadata": {},
   "outputs": [
    {
     "name": "stdout",
     "output_type": "stream",
     "text": [
      "length -> 15\n"
     ]
    }
   ],
   "source": [
    "neigh_info = {\n",
    "  'neigh': ac.neighPattern, # inputs(x, *cell)\n",
    "  'verticalLine': ac.verticalLine, # inputs(x, *cell)\n",
    "  'horizontalLine': ac.horizontalLine, # inputs(x, *cell)\n",
    "  'bl_trDiagonal': ac.bl_trDiagonal, # inputs(x, *cell)\n",
    "  'tr_tlDiagonal': ac.tr_tlDiagonal, # inputs(x, *cell)\n",
    "}\n",
    "color_info = {\n",
    "  **{ cname: lambda x,i,j,color: x[i,j] == color for cname, cvalue in colors.items() } # inputs(x, *cell, color)\n",
    "}\n",
    "\n",
    "caracterize = {\n",
    "  **neigh_info,  # inputs(x, *cell)\n",
    "  **color_info,\n",
    "} # dict_to_store\n",
    "\n",
    "input_characteristics = caracterize.keys()\n",
    "output_characteristics = color_info.keys()\n",
    "output_characteristics = input_characteristics\n",
    "\n",
    "print(f'length -> {len(caracterize)}')\n",
    "#pp(caracterize)\n",
    "i, o = np.array(pattern), np.array(output)\n",
    "\n",
    "def caracterizeIO(m, caracterize, characteristics):\n",
    "  m_d = hp.createGridDict(m)\n",
    "  for name, f in caracterize.items():\n",
    "    for cell, _ in m_d.items():\n",
    "      is_same_color = lambda fn,x,i,j: (np.unique(fn(x,i,j))).shape[0] == 1\n",
    "      if name in characteristics:\n",
    "        if name in colors:\n",
    "          m_d[ cell ][ name ] = f(m, *cell, colors[name])\n",
    "        else:\n",
    "          m_d[ cell ][ name ] = is_same_color(f, m, *cell)\n",
    "  return m_d\n",
    "\n",
    "#i_d = caracterizeIO(i, caracterize, input_characteristics)\n",
    "#pp(i_d[1,2])"
   ]
  },
  {
   "cell_type": "code",
   "execution_count": 52,
   "metadata": {},
   "outputs": [
    {
     "ename": "NameError",
     "evalue": "name 'input_characteristics' is not defined",
     "output_type": "error",
     "traceback": [
      "\u001b[0;31m---------------------------------------------------------------------------\u001b[0m",
      "\u001b[0;31mNameError\u001b[0m                                 Traceback (most recent call last)",
      "\u001b[0;32m<ipython-input-52-d50c834ce115>\u001b[0m in \u001b[0;36m<module>\u001b[0;34m\u001b[0m\n\u001b[1;32m     14\u001b[0m         \u001b[0mothers_count\u001b[0m \u001b[0;34m+=\u001b[0m \u001b[0;36m1\u001b[0m\u001b[0;34m\u001b[0m\u001b[0;34m\u001b[0m\u001b[0m\n\u001b[1;32m     15\u001b[0m   \u001b[0;32mreturn\u001b[0m \u001b[0mdim_m\u001b[0m\u001b[0;34m\u001b[0m\u001b[0;34m\u001b[0m\u001b[0m\n\u001b[0;32m---> 16\u001b[0;31m \u001b[0mi_c\u001b[0m \u001b[0;34m=\u001b[0m \u001b[0mconvertToDimentionalMatrix\u001b[0m\u001b[0;34m(\u001b[0m\u001b[0mi\u001b[0m\u001b[0;34m,\u001b[0m \u001b[0mi_d\u001b[0m\u001b[0;34m,\u001b[0m \u001b[0minput_characteristics\u001b[0m\u001b[0;34m)\u001b[0m\u001b[0;34m\u001b[0m\u001b[0;34m\u001b[0m\u001b[0m\n\u001b[0m\u001b[1;32m     17\u001b[0m \u001b[0;31m#i_c\u001b[0m\u001b[0;34m\u001b[0m\u001b[0;34m\u001b[0m\u001b[0;34m\u001b[0m\u001b[0m\n",
      "\u001b[0;31mNameError\u001b[0m: name 'input_characteristics' is not defined"
     ]
    }
   ],
   "source": [
    "def convertToDimentionalMatrix(m, m_d, caracterize):\n",
    "  n_caracteristics = len(caracterize)\n",
    "  dim_m = np.empty((n_caracteristics, *m.shape))\n",
    "  for cell, char_cell in m_d.items():\n",
    "    color_count, others_count = 0, 0\n",
    "    for j, cname in enumerate(caracterize):\n",
    "      x,y = cell\n",
    "      # from 0 to ncolors, let it be first places, afterwards the others\n",
    "      if cname in colors:\n",
    "        dim_m[color_count, x, y] = int(char_cell[cname]) if type(char_cell[cname]) == bool else char_cell[cname]\n",
    "        color_count += 1\n",
    "      else:\n",
    "        dim_m[others_count+len(colors), x, y] = int(char_cell[cname]) if type(char_cell[cname]) == bool else char_cell[cname]\n",
    "        others_count += 1\n",
    "  return dim_m\n",
    "i_c = convertToDimentionalMatrix(i, i_d, input_characteristics)\n",
    "#i_c"
   ]
  },
  {
   "cell_type": "code",
   "execution_count": 699,
   "metadata": {},
   "outputs": [],
   "source": [
    "import torch\n",
    "import torch.nn as nn\n",
    "import torch.tensor as tensor\n",
    "import torch.nn.functional as F\n",
    "import torch.optim as optim\n",
    "device = torch.device('cpu')\n",
    "device = torch.device('cuda:0' if torch.cuda.is_available() else 'cpu')"
   ]
  },
  {
   "cell_type": "code",
   "execution_count": 700,
   "metadata": {},
   "outputs": [],
   "source": [
    "class NetV2(nn.Module):\n",
    "  def __init__(self, init_dict):\n",
    "    super(NetV2, self).__init__()\n",
    "    input_channels, output_channels, kernel_size = init_dict['input_channels_1'], init_dict['output_channels_1'], init_dict['input_kernel_1']\n",
    "    output_channels_last = init_dict['output_channels_fin']\n",
    "    # Conv2d(input_channels, output_channels, 3x3 square convolution kernel)\n",
    "    #self.conv1 = nn.Conv2d(input_channels, output_channels, kernel_size, padding=1)\n",
    "    #self.conv2 = nn.Conv2d(output_channels, input_channels, 2)\n",
    "    #self.conv3 = nn.Conv2d(input_channels, 1, 1)        \n",
    "    #self.conv3 = nn.Conv2d(output_channels, output_channels_last, 1)        \n",
    "    #self.ups1 = nn.Upsample(scale_factor=2)\n",
    "    self.transition = nn.Sequential(\n",
    "      nn.Conv2d(input_channels, 128, kernel_size=3, padding=1),\n",
    "      nn.ReLU(),\n",
    "      nn.Conv2d(128, output_channels_last, kernel_size=1)\n",
    "    )\n",
    "\n",
    "  def forward(self, x, repeat=1):\n",
    "    for _ in range(repeat):\n",
    "      #x = torch.softmax(x, dim=1)\n",
    "      #x = F.relu(self.conv1(x))\n",
    "      #print('in shape ', x.shape)\n",
    "      #x = self.conv2(x)\n",
    "      #print('in shape ', x.shape)\n",
    "      #x = self.conv3(x)\n",
    "      #x = self.ups1(x)\n",
    "      x = self.transition(torch.softmax(x, dim=1))\n",
    "    return x\n",
    "  \n",
    "class Net(nn.Module):\n",
    "  def __init__(self, init_dict):\n",
    "    super(Net, self).__init__()\n",
    "    input_channels, output_channels, kernel_size = init_dict['input_channels_1'], init_dict['output_channels_1'], init_dict['input_kernel_1']\n",
    "    output_channels_last = init_dict['output_channels_fin']\n",
    "    # Conv2d(input_channels, output_channels, 3x3 square convolution kernel)\n",
    "    self.conv1 = nn.Conv2d(input_channels, output_channels, kernel_size, padding=1)\n",
    "    #self.conv2 = nn.Conv2d(output_channels, input_channels, 2)\n",
    "    #self.conv3 = nn.Conv2d(input_channels, 1, 1)        \n",
    "    self.conv3 = nn.Conv2d(output_channels, output_channels_last, 1)        \n",
    "    #self.ups1 = nn.Upsample(scale_factor=2)\n",
    "\n",
    "  def forward(self, x, repeat=1):\n",
    "    for _ in range(repeat):\n",
    "      #x = torch.softmax(x, dim=1)\n",
    "      x = F.softmax(self.conv1(x), dim=1)\n",
    "      #print('in shape ', x.shape)\n",
    "      #x = self.conv2(x)\n",
    "      #print('in shape ', x.shape)\n",
    "      x = self.conv3(F.relu(x))\n",
    "      #x = self.ups1(x)\n",
    "      #x = self.transition(torch.softmax(x, dim=1))\n",
    "    return x"
   ]
  },
  {
   "cell_type": "code",
   "execution_count": 732,
   "metadata": {},
   "outputs": [
    {
     "name": "stdout",
     "output_type": "stream",
     "text": [
      "10\n",
      "NetV2(\n",
      "  (transition): Sequential(\n",
      "    (0): Conv2d(10, 128, kernel_size=(3, 3), stride=(1, 1), padding=(1, 1))\n",
      "    (1): ReLU()\n",
      "    (2): Conv2d(128, 10, kernel_size=(1, 1), stride=(1, 1))\n",
      "  )\n",
      ")\n"
     ]
    }
   ],
   "source": [
    "def transformCaracterize(m, chars):\n",
    "  x = np.array(m)\n",
    "  x_d = caracterizeIO(x, caracterize, chars)\n",
    "  return convertToDimentionalMatrix(x, x_d, chars)\n",
    "\n",
    "def solve_task(task, model, init_param, epochs=100, steps=10):\n",
    "  criterion = nn.CrossEntropyLoss() \n",
    "  #criterion = nn.MSELoss()\n",
    "  #optimizer = optim.Adam(model.parameters(), lr=0.001)\n",
    "  losses = np.zeros(epochs * (steps - 1))\n",
    "  for step in range(1, steps):\n",
    "    optimizer = optim.Adam(model.parameters(), lr=(0.1 / (step * 2)))\n",
    "    for epch in range(epochs):\n",
    "      optimizer.zero_grad()\n",
    "      running_loss = 0.0\n",
    "      for s, sample in enumerate(task):\n",
    "        i, o = transformCaracterize(sample['input'], input_characteristics), transformCaracterize(sample['output'], output_characteristics) \n",
    "        i = tensor(i).unsqueeze(0).float().to(device) \n",
    "        o = tensor(o).long().unsqueeze(0).to(device)\n",
    "        i = tensor(inp2img(sample[\"input\"])).unsqueeze(0).float().to(device) \n",
    "        o = tensor(sample['output']).long().unsqueeze(0).to(device)\n",
    "        #print(i.shape, o.shape)\n",
    "        predicted = model(i, step)\n",
    "        predicted = predicted #[0]\n",
    "        running_loss += criterion(predicted, o)\n",
    "        \n",
    "        out_inp = inp2img(sample[\"input\"])\n",
    "        #out_inp = transformCaracterize(sample['output'], output_characteristics)\n",
    "        out_inp = tensor(out_inp).unsqueeze(0).float().to(device) \n",
    "        out_pred = model(out_inp, 1) \n",
    "        out_pred = out_pred #[0]\n",
    "        running_loss += criterion(out_pred, o)\n",
    "        \n",
    "      running_loss.backward()\n",
    "      optimizer.step()\n",
    "      losses[ epochs * (step-1) + epch ] = running_loss.item()\n",
    "  return model, losses, step\n",
    "\n",
    "info = hp.getGeneralInfoFromTask(training_path+'/00d62c1b.json')\n",
    "input_characteristics = color_info.keys() #caracterize.keys()\n",
    "output_characteristics = color_info.keys()\n",
    "output_characteristics = input_characteristics\n",
    "n = 3\n",
    "samples = info['train']\n",
    "init_param = {\n",
    "  'output_channels_1': 128,\n",
    "  'input_kernel_1':3,\n",
    "  'input_channels_1': len(input_characteristics),\n",
    "  'output_channels_fin': len(output_characteristics)\n",
    "}\n",
    "print(len(input_characteristics))\n",
    "model = NetV2(init_param).to(device)\n",
    "print(model.eval())\n",
    "model, losses, step = solve_task(samples[:2], model, init_param)"
   ]
  },
  {
   "cell_type": "code",
   "execution_count": 733,
   "metadata": {},
   "outputs": [
    {
     "data": {
      "text/plain": [
       "[<matplotlib.lines.Line2D at 0x7f8bd5253710>]"
      ]
     },
     "execution_count": 733,
     "metadata": {},
     "output_type": "execute_result"
    },
    {
     "data": {
      "image/png": "[encoded data removed]",
      "text/plain": [
       "<Figure size 432x288 with 1 Axes>"
      ]
     },
     "metadata": {
      "needs_background": "light"
     },
     "output_type": "display_data"
    }
   ],
   "source": [
    "plt.plot(losses)"
   ]
  },
  {
   "cell_type": "code",
   "execution_count": 734,
   "metadata": {},
   "outputs": [],
   "source": [
    "@torch.no_grad() # we don't need gradients\n",
    "def predict(model, task):\n",
    "  predictions = []\n",
    "  for sample in task:\n",
    "    i = np.array(sample['input'])\n",
    "    i_d = caracterizeIO(i, caracterize, input_characteristics)\n",
    "    i = convertToDimentionalMatrix(i, i_d, input_characteristics)\n",
    "    i.resize(1, *i.shape)\n",
    "    i = tensor(i).float().to(device) \n",
    "    pred = model(i, 100)\n",
    "    pred = pred[0]\n",
    "    predictions.append(pred)\n",
    "  return predictions\n",
    "\n",
    "@torch.no_grad()\n",
    "def predict2(model, task):\n",
    "    predictions = []\n",
    "    for sample in task:\n",
    "        x = torch.from_numpy(inp2img(sample[\"input\"])).unsqueeze(0).float().to(device)\n",
    "        pred = model(x, 100).argmax(1).squeeze().cpu().numpy()\n",
    "        predictions.append(pred)\n",
    "    return predictions\n",
    "  \n",
    "@torch.no_grad()\n",
    "def predict3(model, task):\n",
    "  predictions = []\n",
    "  for sample in task:\n",
    "    i = transformCaracterize(sample['input'], input_characteristics)\n",
    "    x = tensor(i).unsqueeze(0).float().to(device) \n",
    "    pred = model(x, 100).argmax(1).squeeze().cpu().numpy()\n",
    "    predictions.append(pred)\n",
    "  return predictions\n",
    "\n"
   ]
  },
  {
   "cell_type": "code",
   "execution_count": 735,
   "metadata": {},
   "outputs": [],
   "source": [
    "predictions = predict3(model, samples)"
   ]
  },
  {
   "cell_type": "code",
   "execution_count": 737,
   "metadata": {},
   "outputs": [],
   "source": [
    "def getColors(mx):\n",
    "  m = mx[:10] \n",
    "  z = np.round(m[:10])\n",
    "  x = (z == 0)\n",
    "  y = np.empty((m.shape[1:]))\n",
    "  print(y.shape)\n",
    "  for i in range(m.shape[1]): #rows\n",
    "    for j in range(m.shape[2]): # cols\n",
    "      real_vals = []\n",
    "      for color, m_color in enumerate(x):\n",
    "        real_vals.append(m[color, i, j])\n",
    "      maxim, maxind = getMaxAndIndex(real_vals)\n",
    "      y[i,j] = maxind\n",
    "  return y\n",
    "\n",
    "def getPredictionsColors(p):\n",
    "  return getColors(p.numpy())\n",
    "\n",
    "#pp(samples[1]['output'])\n",
    "#getPredictionsColors(predictions[1])"
   ]
  },
  {
   "cell_type": "code",
   "execution_count": 738,
   "metadata": {},
   "outputs": [
    {
     "data": {
      "text/plain": [
       "{'black': 0,\n",
       " 'blue': 1,\n",
       " 'red': 2,\n",
       " 'green': 3,\n",
       " 'yellow': 4,\n",
       " 'gray': 5,\n",
       " 'magenta': 6,\n",
       " 'orange': 7,\n",
       " 'sky': 8,\n",
       " 'brown': 9}"
      ]
     },
     "execution_count": 738,
     "metadata": {},
     "output_type": "execute_result"
    }
   ],
   "source": [
    "colors"
   ]
  },
  {
   "cell_type": "code",
   "execution_count": 739,
   "metadata": {},
   "outputs": [],
   "source": [
    "def getMaxAndIndex(a): return (np.amax(np.array(a)), np.unique(np.where(a == np.amax(np.array(a))))[0] )"
   ]
  },
  {
   "cell_type": "code",
   "execution_count": 740,
   "metadata": {},
   "outputs": [
    {
     "data": {
      "image/png": "[encoded data removed]",
      "text/plain": [
       "<Figure size 432x2304 with 3 Axes>"
      ]
     },
     "metadata": {
      "needs_background": "light"
     },
     "output_type": "display_data"
    },
    {
     "data": {
      "image/png": "[encoded data removed]",
      "text/plain": [
       "<Figure size 432x2304 with 3 Axes>"
      ]
     },
     "metadata": {
      "needs_background": "light"
     },
     "output_type": "display_data"
    },
    {
     "data": {
      "image/png": "[encoded data removed]",
      "text/plain": [
       "<Figure size 432x2304 with 3 Axes>"
      ]
     },
     "metadata": {
      "needs_background": "light"
     },
     "output_type": "display_data"
    },
    {
     "data": {
      "image/png": "[encoded data removed]",
      "text/plain": [
       "<Figure size 432x2304 with 3 Axes>"
      ]
     },
     "metadata": {
      "needs_background": "light"
     },
     "output_type": "display_data"
    },
    {
     "data": {
      "image/png": "[encoded data removed]",
      "text/plain": [
       "<Figure size 432x2304 with 3 Axes>"
      ]
     },
     "metadata": {
      "needs_background": "light"
     },
     "output_type": "display_data"
    }
   ],
   "source": [
    "importlib.reload(dp)\n",
    "for i in range(len(samples)):\n",
    "  #p = getPredictionsColors(predictions[i])\n",
    "  dp.plot_sample(samples[i], predictions[i])"
   ]
  },
  {
   "cell_type": "code",
   "execution_count": 619,
   "metadata": {},
   "outputs": [],
   "source": [
    "# Colocar cda color en una matriz\n",
    "def inp2img(inp):\n",
    "    inp = np.array(inp)\n",
    "    img = np.full((10, inp.shape[0], inp.shape[1]), 0, dtype=np.uint8)\n",
    "    for i in range(10):\n",
    "        img[i] = (inp==i)\n",
    "    return img"
   ]
  },
  {
   "cell_type": "code",
   "execution_count": 721,
   "metadata": {},
   "outputs": [
    {
     "data": {
      "text/plain": [
       "[{'input': [[0, 0, 0, 0, 0, 7, 0, 0, 0],\n",
       "   [0, 0, 0, 0, 0, 7, 0, 0, 0],\n",
       "   [0, 0, 0, 0, 0, 7, 0, 0, 0],\n",
       "   [0, 0, 0, 0, 0, 7, 0, 0, 0],\n",
       "   [0, 0, 0, 0, 0, 7, 0, 0, 0],\n",
       "   [0, 0, 0, 0, 0, 7, 0, 0, 0],\n",
       "   [0, 0, 0, 0, 0, 7, 0, 0, 0],\n",
       "   [0, 0, 0, 0, 0, 0, 0, 0, 0],\n",
       "   [0, 0, 0, 0, 0, 0, 0, 0, 0]],\n",
       "  'output': [[8, 7, 8, 7, 8, 7, 8, 7, 8],\n",
       "   [8, 7, 8, 7, 8, 7, 8, 7, 8],\n",
       "   [0, 7, 8, 7, 8, 7, 8, 7, 8],\n",
       "   [0, 0, 8, 7, 8, 7, 8, 7, 8],\n",
       "   [0, 0, 0, 7, 8, 7, 8, 7, 0],\n",
       "   [0, 0, 0, 0, 8, 7, 8, 0, 0],\n",
       "   [0, 0, 0, 0, 0, 7, 0, 0, 0],\n",
       "   [0, 0, 0, 0, 0, 0, 0, 0, 0],\n",
       "   [0, 0, 0, 0, 0, 0, 0, 0, 0]]}]"
      ]
     },
     "execution_count": 721,
     "metadata": {},
     "output_type": "execute_result"
    }
   ],
   "source": [
    "hp.getGeneralInfoFromTask(training_path+'/db3e9e38.json')[\"test\"]"
   ]
  },
  {
   "cell_type": "code",
   "execution_count": 723,
   "metadata": {},
   "outputs": [
    {
     "data": {
      "image/png": "[encoded data removed]",
      "text/plain": [
       "<Figure size 432x2304 with 3 Axes>"
      ]
     },
     "metadata": {
      "needs_background": "light"
     },
     "output_type": "display_data"
    }
   ],
   "source": [
    "test = hp.getGeneralInfoFromTask(training_path+'/00d62c1b.json')[\"test\"]\n",
    "predictions = predict3(model, test)\n",
    "for i in range(len(test)):\n",
    "    dp.plot_sample(test[i], predictions[i])"
   ]
  },
  {
   "cell_type": "code",
   "execution_count": 50,
   "metadata": {},
   "outputs": [
    {
     "data": {
      "text/plain": [
       "tensor([[0, 0, 0, 0, 0, 0],\n",
       "        [0, 0, 3, 0, 0, 0],\n",
       "        [0, 3, 0, 3, 0, 0],\n",
       "        [0, 0, 3, 0, 3, 0],\n",
       "        [0, 0, 0, 3, 0, 0],\n",
       "        [0, 0, 0, 0, 0, 0]], device='cuda:0')"
      ]
     },
     "execution_count": 50,
     "metadata": {},
     "output_type": "execute_result"
    }
   ],
   "source": [
    "torch.from_numpy(i).to(device)"
   ]
  },
  {
   "cell_type": "code",
   "execution_count": 53,
   "metadata": {},
   "outputs": [
    {
     "data": {
      "text/plain": [
       "tensor([[[0, 0, 0, 0, 0, 0],\n",
       "         [0, 0, 3, 0, 0, 0],\n",
       "         [0, 3, 4, 3, 0, 0],\n",
       "         [0, 0, 3, 4, 3, 0],\n",
       "         [0, 0, 0, 3, 0, 0],\n",
       "         [0, 0, 0, 0, 0, 0]]], device='cuda:0')"
      ]
     },
     "execution_count": 53,
     "metadata": {},
     "output_type": "execute_result"
    }
   ],
   "source": [
    "torch.tensor(o).long().unsqueeze(0).to(device)"
   ]
  },
  {
   "cell_type": "code",
   "execution_count": 131,
   "metadata": {},
   "outputs": [],
   "source": [
    "n_caracteristics = len(caracterize)\n",
    "emp = np.empty((n_caracteristics, *i.shape), dtype=np.uint8)"
   ]
  },
  {
   "cell_type": "code",
   "execution_count": 144,
   "metadata": {},
   "outputs": [
    {
     "data": {
      "text/plain": [
       "(6, 6, 6)"
      ]
     },
     "execution_count": 144,
     "metadata": {},
     "output_type": "execute_result"
    }
   ],
   "source": [
    "i_c.shape"
   ]
  },
  {
   "cell_type": "code",
   "execution_count": 145,
   "metadata": {},
   "outputs": [],
   "source": [
    "i_c.resize(1, 6,6,6)"
   ]
  },
  {
   "cell_type": "code",
   "execution_count": 729,
   "metadata": {},
   "outputs": [
    {
     "data": {
      "image/png": "[encoded data removed]",
      "text/plain": [
       "<Figure size 432x2304 with 3 Axes>"
      ]
     },
     "metadata": {
      "needs_background": "light"
     },
     "output_type": "display_data"
    },
    {
     "data": {
      "image/png": "[encoded data removed]",
      "text/plain": [
       "<Figure size 432x2304 with 3 Axes>"
      ]
     },
     "metadata": {
      "needs_background": "light"
     },
     "output_type": "display_data"
    },
    {
     "data": {
      "image/png": "[encoded data removed]",
      "text/plain": [
       "<Figure size 432x2304 with 3 Axes>"
      ]
     },
     "metadata": {
      "needs_background": "light"
     },
     "output_type": "display_data"
    },
    {
     "name": "stdout",
     "output_type": "stream",
     "text": [
      "solved : 0 from 5 (0.0)\n"
     ]
    }
   ],
   "source": [
    "def input_output_shape_is_same(task):\n",
    "    return all([np.array(el['input']).shape == np.array(el['output']).shape for el in task['train']])\n",
    "\n",
    "\n",
    "def calk_score(task_test, predict):\n",
    "    return [int(np.equal(sample['output'], pred).all()) for sample, pred in zip(task_test, predict)]\n",
    "  \n",
    "def evaluate(tasks):\n",
    "  result = []\n",
    "  predictions = []\n",
    "  for idx, taskname in enumerate(tasks):\n",
    "    task = hp.getGeneralInfoFromTask(f'{training_path}/{taskname}')\n",
    "    if input_output_shape_is_same(task):\n",
    "      model = NetV2(init_param).to(device)\n",
    "      model, _, _ = solve_task(task[\"train\"], model, init_param)\n",
    "      pred = predict3(model, task[\"test\"])\n",
    "      for i in range(len(task[\"test\"])):\n",
    "        dp.plot_sample(task[\"test\"][i], pred[i])\n",
    "      score = calk_score(task[\"test\"], pred)\n",
    "    else:\n",
    "      pred = [el[\"input\"] for el in task[\"test\"]]\n",
    "      score = [0] * len(task[\"test\"])\n",
    "\n",
    "    predictions.append(pred)\n",
    "    result.append(score)\n",
    "  return result, predictions\n",
    "  \n",
    "train_result, train_predictions = evaluate(training_tasks[:5])\n",
    "train_solved = [any(score) for score in train_result]\n",
    "\n",
    "total = sum([len(score) for score in train_result])\n",
    "print(f\"solved : {sum(train_solved)} from {total} ({sum(train_solved)/total})\")"
   ]
  },
  {
   "cell_type": "code",
   "execution_count": null,
   "metadata": {},
   "outputs": [],
   "source": []
  }
 ],
 "metadata": {
  "kernelspec": {
   "display_name": "Python 3.6.9 64-bit",
   "language": "python",
   "name": "python36964bita6748a10fd904a55b24d331e21814786"
  },
  "language_info": {
   "codemirror_mode": {
    "name": "ipython",
    "version": 3
   },
   "file_extension": ".py",
   "mimetype": "text/x-python",
   "name": "python",
   "nbconvert_exporter": "python",
   "pygments_lexer": "ipython3",
   "version": "3.6.9"
  }
 },
 "nbformat": 4,
 "nbformat_minor": 4
}
